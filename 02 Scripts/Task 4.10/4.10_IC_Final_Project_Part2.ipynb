{
 "cells": [
  {
   "cell_type": "markdown",
   "id": "701c25c8",
   "metadata": {},
   "source": [
    "# 4.10 Coding Etiquette and Excel Reporting\n",
    "\n",
    "#### Please note, due to memory constraints we are using a 70% randomised and representative sample of the full data set for our analyses and visualisations. This subet was created in a previous exercise. \n",
    "\n",
    "###  Contents:\n",
    "\n",
    "1. Importing libraries and files\n",
    "\n",
    "2. Creating profiling variables to look at customer behaviour\n",
    "    \n",
    "3. Creating customer profiling visualisations\n",
    "\n",
    "4. Exporting updated dataframes and charts\n",
    "    \n",
    "   ** **"
   ]
  },
  {
   "cell_type": "code",
   "execution_count": 1,
   "id": "275e58c7",
   "metadata": {},
   "outputs": [],
   "source": [
    "#import libraries\n",
    "import pandas as pd\n",
    "import numpy as np\n",
    "import os\n",
    "import matplotlib.pyplot as plt\n",
    "import seaborn as sns\n",
    "import scipy"
   ]
  },
  {
   "cell_type": "code",
   "execution_count": 2,
   "id": "a2f9a2e9",
   "metadata": {},
   "outputs": [],
   "source": [
    "# Path\n",
    "path = r\"C:\\Users\\Natalia\\Documents\\Instacart Basket Analysis\""
   ]
  },
  {
   "cell_type": "code",
   "execution_count": 3,
   "id": "1354091e",
   "metadata": {},
   "outputs": [],
   "source": [
    "#importing previously created high activity data set \n",
    "df = pd.read_pickle(os.path.join(path, '02 Data', 'Prepared Data', 'high_activity_customers.pkl'))"
   ]
  },
  {
   "cell_type": "code",
   "execution_count": 4,
   "id": "9f82b52a",
   "metadata": {},
   "outputs": [
    {
     "data": {
      "text/html": [
       "<div>\n",
       "<style scoped>\n",
       "    .dataframe tbody tr th:only-of-type {\n",
       "        vertical-align: middle;\n",
       "    }\n",
       "\n",
       "    .dataframe tbody tr th {\n",
       "        vertical-align: top;\n",
       "    }\n",
       "\n",
       "    .dataframe thead th {\n",
       "        text-align: right;\n",
       "    }\n",
       "</style>\n",
       "<table border=\"1\" class=\"dataframe\">\n",
       "  <thead>\n",
       "    <tr style=\"text-align: right;\">\n",
       "      <th></th>\n",
       "      <th>order_id</th>\n",
       "      <th>user_id</th>\n",
       "      <th>order_number</th>\n",
       "      <th>orders_day_of_week</th>\n",
       "      <th>order_hour_of_day</th>\n",
       "      <th>days_since_prior_order</th>\n",
       "      <th>product_id</th>\n",
       "      <th>add_to_cart_order</th>\n",
       "      <th>reordered</th>\n",
       "      <th>_merge</th>\n",
       "      <th>...</th>\n",
       "      <th>gender</th>\n",
       "      <th>state</th>\n",
       "      <th>age</th>\n",
       "      <th>date_joined</th>\n",
       "      <th>n_dependants</th>\n",
       "      <th>dependants_loc</th>\n",
       "      <th>fam_status</th>\n",
       "      <th>income</th>\n",
       "      <th>region</th>\n",
       "      <th>exclusion_flag</th>\n",
       "    </tr>\n",
       "  </thead>\n",
       "  <tbody>\n",
       "    <tr>\n",
       "      <th>1</th>\n",
       "      <td>2398795</td>\n",
       "      <td>1</td>\n",
       "      <td>2</td>\n",
       "      <td>3</td>\n",
       "      <td>7</td>\n",
       "      <td>15.0</td>\n",
       "      <td>196</td>\n",
       "      <td>1</td>\n",
       "      <td>1</td>\n",
       "      <td>both</td>\n",
       "      <td>...</td>\n",
       "      <td>Female</td>\n",
       "      <td>AL</td>\n",
       "      <td>31</td>\n",
       "      <td>2019-02-17</td>\n",
       "      <td>3</td>\n",
       "      <td>Has dependants</td>\n",
       "      <td>married</td>\n",
       "      <td>40423</td>\n",
       "      <td>South</td>\n",
       "      <td>high-activity</td>\n",
       "    </tr>\n",
       "    <tr>\n",
       "      <th>4</th>\n",
       "      <td>431534</td>\n",
       "      <td>1</td>\n",
       "      <td>5</td>\n",
       "      <td>4</td>\n",
       "      <td>15</td>\n",
       "      <td>28.0</td>\n",
       "      <td>196</td>\n",
       "      <td>1</td>\n",
       "      <td>1</td>\n",
       "      <td>both</td>\n",
       "      <td>...</td>\n",
       "      <td>Female</td>\n",
       "      <td>AL</td>\n",
       "      <td>31</td>\n",
       "      <td>2019-02-17</td>\n",
       "      <td>3</td>\n",
       "      <td>Has dependants</td>\n",
       "      <td>married</td>\n",
       "      <td>40423</td>\n",
       "      <td>South</td>\n",
       "      <td>high-activity</td>\n",
       "    </tr>\n",
       "    <tr>\n",
       "      <th>5</th>\n",
       "      <td>3367565</td>\n",
       "      <td>1</td>\n",
       "      <td>6</td>\n",
       "      <td>2</td>\n",
       "      <td>7</td>\n",
       "      <td>19.0</td>\n",
       "      <td>196</td>\n",
       "      <td>1</td>\n",
       "      <td>1</td>\n",
       "      <td>both</td>\n",
       "      <td>...</td>\n",
       "      <td>Female</td>\n",
       "      <td>AL</td>\n",
       "      <td>31</td>\n",
       "      <td>2019-02-17</td>\n",
       "      <td>3</td>\n",
       "      <td>Has dependants</td>\n",
       "      <td>married</td>\n",
       "      <td>40423</td>\n",
       "      <td>South</td>\n",
       "      <td>high-activity</td>\n",
       "    </tr>\n",
       "    <tr>\n",
       "      <th>7</th>\n",
       "      <td>3108588</td>\n",
       "      <td>1</td>\n",
       "      <td>8</td>\n",
       "      <td>1</td>\n",
       "      <td>14</td>\n",
       "      <td>14.0</td>\n",
       "      <td>196</td>\n",
       "      <td>2</td>\n",
       "      <td>1</td>\n",
       "      <td>both</td>\n",
       "      <td>...</td>\n",
       "      <td>Female</td>\n",
       "      <td>AL</td>\n",
       "      <td>31</td>\n",
       "      <td>2019-02-17</td>\n",
       "      <td>3</td>\n",
       "      <td>Has dependants</td>\n",
       "      <td>married</td>\n",
       "      <td>40423</td>\n",
       "      <td>South</td>\n",
       "      <td>high-activity</td>\n",
       "    </tr>\n",
       "    <tr>\n",
       "      <th>8</th>\n",
       "      <td>2295261</td>\n",
       "      <td>1</td>\n",
       "      <td>9</td>\n",
       "      <td>1</td>\n",
       "      <td>16</td>\n",
       "      <td>0.0</td>\n",
       "      <td>196</td>\n",
       "      <td>4</td>\n",
       "      <td>1</td>\n",
       "      <td>both</td>\n",
       "      <td>...</td>\n",
       "      <td>Female</td>\n",
       "      <td>AL</td>\n",
       "      <td>31</td>\n",
       "      <td>2019-02-17</td>\n",
       "      <td>3</td>\n",
       "      <td>Has dependants</td>\n",
       "      <td>married</td>\n",
       "      <td>40423</td>\n",
       "      <td>South</td>\n",
       "      <td>high-activity</td>\n",
       "    </tr>\n",
       "  </tbody>\n",
       "</table>\n",
       "<p>5 rows × 33 columns</p>\n",
       "</div>"
      ],
      "text/plain": [
       "   order_id  user_id  order_number  orders_day_of_week  order_hour_of_day  \\\n",
       "1   2398795        1             2                   3                  7   \n",
       "4    431534        1             5                   4                 15   \n",
       "5   3367565        1             6                   2                  7   \n",
       "7   3108588        1             8                   1                 14   \n",
       "8   2295261        1             9                   1                 16   \n",
       "\n",
       "   days_since_prior_order  product_id  add_to_cart_order  reordered _merge  \\\n",
       "1                    15.0         196                  1          1   both   \n",
       "4                    28.0         196                  1          1   both   \n",
       "5                    19.0         196                  1          1   both   \n",
       "7                    14.0         196                  2          1   both   \n",
       "8                     0.0         196                  4          1   both   \n",
       "\n",
       "   ...  gender  state  age  date_joined n_dependants  dependants_loc  \\\n",
       "1  ...  Female     AL   31   2019-02-17            3  Has dependants   \n",
       "4  ...  Female     AL   31   2019-02-17            3  Has dependants   \n",
       "5  ...  Female     AL   31   2019-02-17            3  Has dependants   \n",
       "7  ...  Female     AL   31   2019-02-17            3  Has dependants   \n",
       "8  ...  Female     AL   31   2019-02-17            3  Has dependants   \n",
       "\n",
       "  fam_status  income region  exclusion_flag  \n",
       "1    married   40423  South   high-activity  \n",
       "4    married   40423  South   high-activity  \n",
       "5    married   40423  South   high-activity  \n",
       "7    married   40423  South   high-activity  \n",
       "8    married   40423  South   high-activity  \n",
       "\n",
       "[5 rows x 33 columns]"
      ]
     },
     "execution_count": 4,
     "metadata": {},
     "output_type": "execute_result"
    }
   ],
   "source": [
    "#checking output\n",
    "df.head()"
   ]
  },
  {
   "cell_type": "code",
   "execution_count": 5,
   "id": "7eda41a0",
   "metadata": {},
   "outputs": [
    {
     "name": "stdout",
     "output_type": "stream",
     "text": [
      "<class 'pandas.core.frame.DataFrame'>\n",
      "Int64Index: 21675811 entries, 1 to 32404854\n",
      "Data columns (total 33 columns):\n",
      " #   Column                  Dtype         \n",
      "---  ------                  -----         \n",
      " 0   order_id                int32         \n",
      " 1   user_id                 int32         \n",
      " 2   order_number            int8          \n",
      " 3   orders_day_of_week      int8          \n",
      " 4   order_hour_of_day       int8          \n",
      " 5   days_since_prior_order  float16       \n",
      " 6   product_id              int32         \n",
      " 7   add_to_cart_order       int16         \n",
      " 8   reordered               int8          \n",
      " 9   _merge                  category      \n",
      " 10  product_name            category      \n",
      " 11  aisle_id                int16         \n",
      " 12  department_id           int8          \n",
      " 13  prices                  float32       \n",
      " 14  price_range_loc         category      \n",
      " 15  busiest_days            category      \n",
      " 16  busiest_period_of_day   category      \n",
      " 17  max_order               int8          \n",
      " 18  loyalty_flag            category      \n",
      " 19  avg_price               float16       \n",
      " 20  spending_flag           category      \n",
      " 21  order_freq              float16       \n",
      " 22  order_freq_flag         category      \n",
      " 23  gender                  category      \n",
      " 24  state                   category      \n",
      " 25  age                     int8          \n",
      " 26  date_joined             datetime64[ns]\n",
      " 27  n_dependants            int8          \n",
      " 28  dependants_loc          category      \n",
      " 29  fam_status              category      \n",
      " 30  income                  int32         \n",
      " 31  region                  object        \n",
      " 32  exclusion_flag          object        \n",
      "dtypes: category(12), datetime64[ns](1), float16(3), float32(1), int16(2), int32(4), int8(8), object(2)\n",
      "memory usage: 1.7+ GB\n"
     ]
    }
   ],
   "source": [
    "df.info()"
   ]
  },
  {
   "cell_type": "code",
   "execution_count": 6,
   "id": "ac43dc63",
   "metadata": {},
   "outputs": [
    {
     "data": {
      "text/plain": [
       "(21675811, 33)"
      ]
     },
     "execution_count": 6,
     "metadata": {},
     "output_type": "execute_result"
    }
   ],
   "source": [
    "df.shape"
   ]
  },
  {
   "cell_type": "code",
   "execution_count": 7,
   "id": "280f8f0a",
   "metadata": {},
   "outputs": [],
   "source": [
    "#importing departments data set \n",
    "df_deps = pd.read_csv(os.path.join(path, '02 Data', 'Prepared Data', 'departments_wrangled.csv'), index_col = False)"
   ]
  },
  {
   "cell_type": "code",
   "execution_count": 8,
   "id": "623311d4",
   "metadata": {},
   "outputs": [
    {
     "data": {
      "text/html": [
       "<div>\n",
       "<style scoped>\n",
       "    .dataframe tbody tr th:only-of-type {\n",
       "        vertical-align: middle;\n",
       "    }\n",
       "\n",
       "    .dataframe tbody tr th {\n",
       "        vertical-align: top;\n",
       "    }\n",
       "\n",
       "    .dataframe thead th {\n",
       "        text-align: right;\n",
       "    }\n",
       "</style>\n",
       "<table border=\"1\" class=\"dataframe\">\n",
       "  <thead>\n",
       "    <tr style=\"text-align: right;\">\n",
       "      <th></th>\n",
       "      <th>Unnamed: 0</th>\n",
       "      <th>department</th>\n",
       "    </tr>\n",
       "  </thead>\n",
       "  <tbody>\n",
       "    <tr>\n",
       "      <th>0</th>\n",
       "      <td>1</td>\n",
       "      <td>frozen</td>\n",
       "    </tr>\n",
       "    <tr>\n",
       "      <th>1</th>\n",
       "      <td>2</td>\n",
       "      <td>other</td>\n",
       "    </tr>\n",
       "    <tr>\n",
       "      <th>2</th>\n",
       "      <td>3</td>\n",
       "      <td>bakery</td>\n",
       "    </tr>\n",
       "    <tr>\n",
       "      <th>3</th>\n",
       "      <td>4</td>\n",
       "      <td>produce</td>\n",
       "    </tr>\n",
       "    <tr>\n",
       "      <th>4</th>\n",
       "      <td>5</td>\n",
       "      <td>alcohol</td>\n",
       "    </tr>\n",
       "    <tr>\n",
       "      <th>5</th>\n",
       "      <td>6</td>\n",
       "      <td>international</td>\n",
       "    </tr>\n",
       "    <tr>\n",
       "      <th>6</th>\n",
       "      <td>7</td>\n",
       "      <td>beverages</td>\n",
       "    </tr>\n",
       "    <tr>\n",
       "      <th>7</th>\n",
       "      <td>8</td>\n",
       "      <td>pets</td>\n",
       "    </tr>\n",
       "    <tr>\n",
       "      <th>8</th>\n",
       "      <td>9</td>\n",
       "      <td>dry goods pasta</td>\n",
       "    </tr>\n",
       "    <tr>\n",
       "      <th>9</th>\n",
       "      <td>10</td>\n",
       "      <td>bulk</td>\n",
       "    </tr>\n",
       "    <tr>\n",
       "      <th>10</th>\n",
       "      <td>11</td>\n",
       "      <td>personal care</td>\n",
       "    </tr>\n",
       "    <tr>\n",
       "      <th>11</th>\n",
       "      <td>12</td>\n",
       "      <td>meat seafood</td>\n",
       "    </tr>\n",
       "    <tr>\n",
       "      <th>12</th>\n",
       "      <td>13</td>\n",
       "      <td>pantry</td>\n",
       "    </tr>\n",
       "    <tr>\n",
       "      <th>13</th>\n",
       "      <td>14</td>\n",
       "      <td>breakfast</td>\n",
       "    </tr>\n",
       "    <tr>\n",
       "      <th>14</th>\n",
       "      <td>15</td>\n",
       "      <td>canned goods</td>\n",
       "    </tr>\n",
       "    <tr>\n",
       "      <th>15</th>\n",
       "      <td>16</td>\n",
       "      <td>dairy eggs</td>\n",
       "    </tr>\n",
       "    <tr>\n",
       "      <th>16</th>\n",
       "      <td>17</td>\n",
       "      <td>household</td>\n",
       "    </tr>\n",
       "    <tr>\n",
       "      <th>17</th>\n",
       "      <td>18</td>\n",
       "      <td>babies</td>\n",
       "    </tr>\n",
       "    <tr>\n",
       "      <th>18</th>\n",
       "      <td>19</td>\n",
       "      <td>snacks</td>\n",
       "    </tr>\n",
       "    <tr>\n",
       "      <th>19</th>\n",
       "      <td>20</td>\n",
       "      <td>deli</td>\n",
       "    </tr>\n",
       "    <tr>\n",
       "      <th>20</th>\n",
       "      <td>21</td>\n",
       "      <td>missing</td>\n",
       "    </tr>\n",
       "  </tbody>\n",
       "</table>\n",
       "</div>"
      ],
      "text/plain": [
       "    Unnamed: 0       department\n",
       "0            1           frozen\n",
       "1            2            other\n",
       "2            3           bakery\n",
       "3            4          produce\n",
       "4            5          alcohol\n",
       "5            6    international\n",
       "6            7        beverages\n",
       "7            8             pets\n",
       "8            9  dry goods pasta\n",
       "9           10             bulk\n",
       "10          11    personal care\n",
       "11          12     meat seafood\n",
       "12          13           pantry\n",
       "13          14        breakfast\n",
       "14          15     canned goods\n",
       "15          16       dairy eggs\n",
       "16          17        household\n",
       "17          18           babies\n",
       "18          19           snacks\n",
       "19          20             deli\n",
       "20          21          missing"
      ]
     },
     "execution_count": 8,
     "metadata": {},
     "output_type": "execute_result"
    }
   ],
   "source": [
    "#checking output \n",
    "df_deps"
   ]
  },
  {
   "cell_type": "code",
   "execution_count": 9,
   "id": "4f7ab142",
   "metadata": {},
   "outputs": [],
   "source": [
    "df_deps.rename(columns= {\"Unnamed: 0\": \"department_id\"}, inplace = True)"
   ]
  },
  {
   "cell_type": "code",
   "execution_count": 10,
   "id": "5a8b0a10",
   "metadata": {},
   "outputs": [
    {
     "data": {
      "text/html": [
       "<div>\n",
       "<style scoped>\n",
       "    .dataframe tbody tr th:only-of-type {\n",
       "        vertical-align: middle;\n",
       "    }\n",
       "\n",
       "    .dataframe tbody tr th {\n",
       "        vertical-align: top;\n",
       "    }\n",
       "\n",
       "    .dataframe thead th {\n",
       "        text-align: right;\n",
       "    }\n",
       "</style>\n",
       "<table border=\"1\" class=\"dataframe\">\n",
       "  <thead>\n",
       "    <tr style=\"text-align: right;\">\n",
       "      <th></th>\n",
       "      <th>department_id</th>\n",
       "      <th>department</th>\n",
       "    </tr>\n",
       "  </thead>\n",
       "  <tbody>\n",
       "    <tr>\n",
       "      <th>0</th>\n",
       "      <td>1</td>\n",
       "      <td>frozen</td>\n",
       "    </tr>\n",
       "    <tr>\n",
       "      <th>1</th>\n",
       "      <td>2</td>\n",
       "      <td>other</td>\n",
       "    </tr>\n",
       "    <tr>\n",
       "      <th>2</th>\n",
       "      <td>3</td>\n",
       "      <td>bakery</td>\n",
       "    </tr>\n",
       "    <tr>\n",
       "      <th>3</th>\n",
       "      <td>4</td>\n",
       "      <td>produce</td>\n",
       "    </tr>\n",
       "    <tr>\n",
       "      <th>4</th>\n",
       "      <td>5</td>\n",
       "      <td>alcohol</td>\n",
       "    </tr>\n",
       "    <tr>\n",
       "      <th>5</th>\n",
       "      <td>6</td>\n",
       "      <td>international</td>\n",
       "    </tr>\n",
       "    <tr>\n",
       "      <th>6</th>\n",
       "      <td>7</td>\n",
       "      <td>beverages</td>\n",
       "    </tr>\n",
       "    <tr>\n",
       "      <th>7</th>\n",
       "      <td>8</td>\n",
       "      <td>pets</td>\n",
       "    </tr>\n",
       "    <tr>\n",
       "      <th>8</th>\n",
       "      <td>9</td>\n",
       "      <td>dry goods pasta</td>\n",
       "    </tr>\n",
       "    <tr>\n",
       "      <th>9</th>\n",
       "      <td>10</td>\n",
       "      <td>bulk</td>\n",
       "    </tr>\n",
       "    <tr>\n",
       "      <th>10</th>\n",
       "      <td>11</td>\n",
       "      <td>personal care</td>\n",
       "    </tr>\n",
       "    <tr>\n",
       "      <th>11</th>\n",
       "      <td>12</td>\n",
       "      <td>meat seafood</td>\n",
       "    </tr>\n",
       "    <tr>\n",
       "      <th>12</th>\n",
       "      <td>13</td>\n",
       "      <td>pantry</td>\n",
       "    </tr>\n",
       "    <tr>\n",
       "      <th>13</th>\n",
       "      <td>14</td>\n",
       "      <td>breakfast</td>\n",
       "    </tr>\n",
       "    <tr>\n",
       "      <th>14</th>\n",
       "      <td>15</td>\n",
       "      <td>canned goods</td>\n",
       "    </tr>\n",
       "    <tr>\n",
       "      <th>15</th>\n",
       "      <td>16</td>\n",
       "      <td>dairy eggs</td>\n",
       "    </tr>\n",
       "    <tr>\n",
       "      <th>16</th>\n",
       "      <td>17</td>\n",
       "      <td>household</td>\n",
       "    </tr>\n",
       "    <tr>\n",
       "      <th>17</th>\n",
       "      <td>18</td>\n",
       "      <td>babies</td>\n",
       "    </tr>\n",
       "    <tr>\n",
       "      <th>18</th>\n",
       "      <td>19</td>\n",
       "      <td>snacks</td>\n",
       "    </tr>\n",
       "    <tr>\n",
       "      <th>19</th>\n",
       "      <td>20</td>\n",
       "      <td>deli</td>\n",
       "    </tr>\n",
       "    <tr>\n",
       "      <th>20</th>\n",
       "      <td>21</td>\n",
       "      <td>missing</td>\n",
       "    </tr>\n",
       "  </tbody>\n",
       "</table>\n",
       "</div>"
      ],
      "text/plain": [
       "    department_id       department\n",
       "0               1           frozen\n",
       "1               2            other\n",
       "2               3           bakery\n",
       "3               4          produce\n",
       "4               5          alcohol\n",
       "5               6    international\n",
       "6               7        beverages\n",
       "7               8             pets\n",
       "8               9  dry goods pasta\n",
       "9              10             bulk\n",
       "10             11    personal care\n",
       "11             12     meat seafood\n",
       "12             13           pantry\n",
       "13             14        breakfast\n",
       "14             15     canned goods\n",
       "15             16       dairy eggs\n",
       "16             17        household\n",
       "17             18           babies\n",
       "18             19           snacks\n",
       "19             20             deli\n",
       "20             21          missing"
      ]
     },
     "execution_count": 10,
     "metadata": {},
     "output_type": "execute_result"
    }
   ],
   "source": [
    "#checking output\n",
    "df_deps"
   ]
  },
  {
   "cell_type": "markdown",
   "id": "357cb820",
   "metadata": {},
   "source": [
    "## 2. Customer Profiling"
   ]
  },
  {
   "cell_type": "markdown",
   "id": "4e546e7f",
   "metadata": {},
   "source": [
    "*The marketing and business strategy units at Instacart want to create more-relevant marketing strategies for different products and are, thus, curious about customer profiling in their database. Create a profiling variable based on age, income, certain goods in the “department_id” column, and number of dependents. You might also use the “orders_day_of_the_week” and “order_hour_of_day” columns if you can think of a way they would impact customer profiles. (Hint: As an example, try thinking of what characteristics would lead you to the profile “Single adult” or “Young parent.”)*\n",
    "\n",
    "**What are demographics are we going to be looking at?**\n",
    " - Age\n",
    " - Income\n",
    " - Family status and dependants \n"
   ]
  },
  {
   "cell_type": "markdown",
   "id": "ac5150eb",
   "metadata": {},
   "source": [
    "#### 2.1 Age"
   ]
  },
  {
   "cell_type": "code",
   "execution_count": 11,
   "id": "21f781d1",
   "metadata": {},
   "outputs": [
    {
     "data": {
      "text/plain": [
       "count    2.167581e+07\n",
       "mean     4.946941e+01\n",
       "std      1.848539e+01\n",
       "min      1.800000e+01\n",
       "25%      3.300000e+01\n",
       "50%      4.900000e+01\n",
       "75%      6.500000e+01\n",
       "max      8.100000e+01\n",
       "Name: age, dtype: float64"
      ]
     },
     "execution_count": 11,
     "metadata": {},
     "output_type": "execute_result"
    }
   ],
   "source": [
    "#checking the variance of ages in our dataset\n",
    "df['age'].describe()"
   ]
  },
  {
   "cell_type": "markdown",
   "id": "5bcb5999",
   "metadata": {},
   "source": [
    "**Result:** The result of the describe function() is that we have a wide spread of ages, all customers are adults. The minimum age is 18 whilst the maximum is 81 so it makes sense to group the age into three categories:\n",
    "\n",
    "1. Youth: 18 - 39\n",
    "2. Midde age: 40 - 64\n",
    "3. Senior: 65+"
   ]
  },
  {
   "cell_type": "code",
   "execution_count": 12,
   "id": "ac85eeee",
   "metadata": {},
   "outputs": [
    {
     "data": {
      "text/plain": [
       "Middle age    8473216\n",
       "Youth         7464859\n",
       "Senior        5737736\n",
       "Name: age_category, dtype: int64"
      ]
     },
     "execution_count": 12,
     "metadata": {},
     "output_type": "execute_result"
    }
   ],
   "source": [
    "#creating age categories\n",
    "\n",
    "df.loc[(df['age'] >= 18) & (df['age'] < 40), 'age_category'] = 'Youth'\n",
    "df.loc[(df['age'] >= 40) & (df['age'] < 65), 'age_category'] = 'Middle age'\n",
    "df.loc[df['age'] >= 65, 'age_category'] = 'Senior'\n",
    "df['age_category'].value_counts()"
   ]
  },
  {
   "cell_type": "code",
   "execution_count": 13,
   "id": "3dfbb876",
   "metadata": {},
   "outputs": [
    {
     "data": {
      "text/plain": [
       "(21675811, 34)"
      ]
     },
     "execution_count": 13,
     "metadata": {},
     "output_type": "execute_result"
    }
   ],
   "source": [
    "#checking shape of dataset\n",
    "df.shape"
   ]
  },
  {
   "cell_type": "markdown",
   "id": "7bb9d43a",
   "metadata": {},
   "source": [
    "#### 2.2 Income"
   ]
  },
  {
   "cell_type": "code",
   "execution_count": 14,
   "id": "1d01d578",
   "metadata": {},
   "outputs": [
    {
     "data": {
      "text/plain": [
       "count    2.167581e+07\n",
       "mean     9.967933e+04\n",
       "std      4.315239e+04\n",
       "min      2.590300e+04\n",
       "25%      6.728600e+04\n",
       "50%      9.676500e+04\n",
       "75%      1.281020e+05\n",
       "max      5.939010e+05\n",
       "Name: income, dtype: float64"
      ]
     },
     "execution_count": 14,
     "metadata": {},
     "output_type": "execute_result"
    }
   ],
   "source": [
    "#checking our dataframe for income statistics\n",
    "df['income'].describe()"
   ]
  },
  {
   "cell_type": "markdown",
   "id": "d3248793",
   "metadata": {},
   "source": [
    "**Result:** The results of the describe function tell us that the lowest recorded income is 25,000 USD and the highest is 593,901 USD"
   ]
  },
  {
   "cell_type": "code",
   "execution_count": 15,
   "id": "5a7e5c2d",
   "metadata": {},
   "outputs": [
    {
     "data": {
      "text/plain": [
       "Text(0.5, 1.0, 'Income distribution of Instacart Users')"
      ]
     },
     "execution_count": 15,
     "metadata": {},
     "output_type": "execute_result"
    },
    {
     "data": {
      "image/png": "[encoded data removed]",
      "text/plain": [
       "<Figure size 640x480 with 1 Axes>"
      ]
     },
     "metadata": {},
     "output_type": "display_data"
    }
   ],
   "source": [
    "#create an income histogram\n",
    "hist_income = df['income'].plot.hist(bins =50, color = 'orange')\n",
    "\n",
    "plt.xlabel('Income (USD)')\n",
    "plt.ylabel('Frequency in millions')\n",
    "plt.title('Income distribution of Instacart Users', fontsize = 18, pad=20)"
   ]
  },
  {
   "cell_type": "code",
   "execution_count": 16,
   "id": "da955147",
   "metadata": {},
   "outputs": [],
   "source": [
    "#calculating the income percentiles\n",
    "quartile_income = list(df['income'].quantile([0.25, 0.5, 0.75]))"
   ]
  },
  {
   "cell_type": "code",
   "execution_count": 17,
   "id": "36f26877",
   "metadata": {},
   "outputs": [
    {
     "data": {
      "text/plain": [
       "[67286.0, 96765.0, 128102.0]"
      ]
     },
     "execution_count": 17,
     "metadata": {},
     "output_type": "execute_result"
    }
   ],
   "source": [
    "#checking results\n",
    "quartile_income"
   ]
  },
  {
   "cell_type": "markdown",
   "id": "f85e58db",
   "metadata": {},
   "source": [
    "**Results:** based on the identified quartiles, we are going to create three income categories so we can analyse the impact of income on purchases: low, mid, and high income. "
   ]
  },
  {
   "cell_type": "code",
   "execution_count": 18,
   "id": "c9c157bb",
   "metadata": {},
   "outputs": [],
   "source": [
    "# Creating income_category column\n",
    "\n",
    "df.loc[df['income']< 70000, 'income_flag'] = 'Low'\n",
    "df.loc[(df['income']>= 70000) & (df['income']< 120000), 'income_flag'] = 'Middle'\n",
    "df.loc[df['income']>= 120000, 'income_flag'] = 'High'"
   ]
  },
  {
   "cell_type": "code",
   "execution_count": 19,
   "id": "d9e7e853",
   "metadata": {},
   "outputs": [
    {
     "data": {
      "text/plain": [
       "Middle    9284980\n",
       "High      6425993\n",
       "Low       5964838\n",
       "Name: income_flag, dtype: int64"
      ]
     },
     "execution_count": 19,
     "metadata": {},
     "output_type": "execute_result"
    }
   ],
   "source": [
    "df['income_flag'].value_counts()"
   ]
  },
  {
   "cell_type": "code",
   "execution_count": 20,
   "id": "bd705929",
   "metadata": {},
   "outputs": [
    {
     "data": {
      "text/html": [
       "<div>\n",
       "<style scoped>\n",
       "    .dataframe tbody tr th:only-of-type {\n",
       "        vertical-align: middle;\n",
       "    }\n",
       "\n",
       "    .dataframe tbody tr th {\n",
       "        vertical-align: top;\n",
       "    }\n",
       "\n",
       "    .dataframe thead th {\n",
       "        text-align: right;\n",
       "    }\n",
       "</style>\n",
       "<table border=\"1\" class=\"dataframe\">\n",
       "  <thead>\n",
       "    <tr style=\"text-align: right;\">\n",
       "      <th>income_flag</th>\n",
       "      <th>High</th>\n",
       "      <th>Low</th>\n",
       "      <th>Middle</th>\n",
       "    </tr>\n",
       "    <tr>\n",
       "      <th>region</th>\n",
       "      <th></th>\n",
       "      <th></th>\n",
       "      <th></th>\n",
       "    </tr>\n",
       "  </thead>\n",
       "  <tbody>\n",
       "    <tr>\n",
       "      <th>Midwest</th>\n",
       "      <td>1532662</td>\n",
       "      <td>1382212</td>\n",
       "      <td>2169193</td>\n",
       "    </tr>\n",
       "    <tr>\n",
       "      <th>Northeast</th>\n",
       "      <td>1141239</td>\n",
       "      <td>1041384</td>\n",
       "      <td>1644186</td>\n",
       "    </tr>\n",
       "    <tr>\n",
       "      <th>South</th>\n",
       "      <td>2116677</td>\n",
       "      <td>1994497</td>\n",
       "      <td>3105829</td>\n",
       "    </tr>\n",
       "    <tr>\n",
       "      <th>West</th>\n",
       "      <td>1635415</td>\n",
       "      <td>1546745</td>\n",
       "      <td>2365772</td>\n",
       "    </tr>\n",
       "  </tbody>\n",
       "</table>\n",
       "</div>"
      ],
      "text/plain": [
       "income_flag     High      Low   Middle\n",
       "region                                \n",
       "Midwest      1532662  1382212  2169193\n",
       "Northeast    1141239  1041384  1644186\n",
       "South        2116677  1994497  3105829\n",
       "West         1635415  1546745  2365772"
      ]
     },
     "execution_count": 20,
     "metadata": {},
     "output_type": "execute_result"
    }
   ],
   "source": [
    "# Drawing a stacked-bar chart of 'income_category' column in different regions\n",
    "\n",
    "crosstab_income_region = pd.crosstab (df['region'],df['income_flag'], dropna = False)\n",
    "crosstab_income_region"
   ]
  },
  {
   "cell_type": "markdown",
   "id": "1045970f",
   "metadata": {},
   "source": [
    "#### 2.3 Family makeup and Number of Depedants"
   ]
  },
  {
   "cell_type": "markdown",
   "id": "b1119ea9",
   "metadata": {},
   "source": [
    "In a previous exercise we created the column *dependants_loc* which tracked whether or not the customer has any dependants. We can use this data point in conjunction with others to understand more about how having dependants impacts purchasing. \n",
    "\n",
    "It's not clear from the data set but dependants can be children or adults, including elderly relevatives, or family members with disabilities. "
   ]
  },
  {
   "cell_type": "code",
   "execution_count": 21,
   "id": "b1ab3882",
   "metadata": {},
   "outputs": [],
   "source": [
    "#comparing family status with whether they have dependants\n",
    "family_crosstab = pd.crosstab(df['fam_status'],df['dependants_loc'],dropna = False)"
   ]
  },
  {
   "cell_type": "code",
   "execution_count": 22,
   "id": "9809612b",
   "metadata": {},
   "outputs": [
    {
     "data": {
      "text/html": [
       "<div>\n",
       "<style scoped>\n",
       "    .dataframe tbody tr th:only-of-type {\n",
       "        vertical-align: middle;\n",
       "    }\n",
       "\n",
       "    .dataframe tbody tr th {\n",
       "        vertical-align: top;\n",
       "    }\n",
       "\n",
       "    .dataframe thead th {\n",
       "        text-align: right;\n",
       "    }\n",
       "</style>\n",
       "<table border=\"1\" class=\"dataframe\">\n",
       "  <thead>\n",
       "    <tr style=\"text-align: right;\">\n",
       "      <th>dependants_loc</th>\n",
       "      <th>Has dependants</th>\n",
       "      <th>No dependants</th>\n",
       "    </tr>\n",
       "    <tr>\n",
       "      <th>fam_status</th>\n",
       "      <th></th>\n",
       "      <th></th>\n",
       "    </tr>\n",
       "  </thead>\n",
       "  <tbody>\n",
       "    <tr>\n",
       "      <th>divorced/widowed</th>\n",
       "      <td>0</td>\n",
       "      <td>1853099</td>\n",
       "    </tr>\n",
       "    <tr>\n",
       "      <th>living with parents and siblings</th>\n",
       "      <td>1036805</td>\n",
       "      <td>0</td>\n",
       "    </tr>\n",
       "    <tr>\n",
       "      <th>married</th>\n",
       "      <td>15219623</td>\n",
       "      <td>0</td>\n",
       "    </tr>\n",
       "    <tr>\n",
       "      <th>single</th>\n",
       "      <td>0</td>\n",
       "      <td>3566284</td>\n",
       "    </tr>\n",
       "  </tbody>\n",
       "</table>\n",
       "</div>"
      ],
      "text/plain": [
       "dependants_loc                    Has dependants  No dependants\n",
       "fam_status                                                     \n",
       "divorced/widowed                               0        1853099\n",
       "living with parents and siblings         1036805              0\n",
       "married                                 15219623              0\n",
       "single                                         0        3566284"
      ]
     },
     "execution_count": 22,
     "metadata": {},
     "output_type": "execute_result"
    }
   ],
   "source": [
    "#checking output\n",
    "family_crosstab"
   ]
  },
  {
   "cell_type": "markdown",
   "id": "7f38f063",
   "metadata": {},
   "source": [
    "**Observations:** It appears that only those customers who are married, or live with close family members have dependants. "
   ]
  },
  {
   "cell_type": "markdown",
   "id": "a5e3f735",
   "metadata": {},
   "source": [
    "#### Creating a profile column that looks at income and family status"
   ]
  },
  {
   "cell_type": "code",
   "execution_count": 23,
   "id": "9138ebda",
   "metadata": {},
   "outputs": [],
   "source": [
    "#creating profile for \"high-income single adult\"\n",
    "df.loc[(df['fam_status'] == 'single') & (df['income_flag'] == 'High'), 'profile_age'] = 'high-income single adult'"
   ]
  },
  {
   "cell_type": "code",
   "execution_count": 24,
   "id": "fa6a7bb2",
   "metadata": {},
   "outputs": [],
   "source": [
    "#creating profile for \"mid-income single adult\"\n",
    "df.loc[(df['fam_status'] == 'single') & (df['income']>= 96763) & (df['income_flag'] == 'Middle'), 'profile_age'] = 'mid-income single adult'"
   ]
  },
  {
   "cell_type": "code",
   "execution_count": 25,
   "id": "c85eb15a",
   "metadata": {},
   "outputs": [],
   "source": [
    "#creating profile for \"low-income single adult\"\n",
    "df.loc[(df['fam_status'] == 'single') & (df['income_flag'] == 'Low'), 'profile_age'] = 'low-income single adult'"
   ]
  },
  {
   "cell_type": "code",
   "execution_count": 26,
   "id": "01ddec13",
   "metadata": {},
   "outputs": [],
   "source": [
    "#creating profile for \"high-income married adult\"\n",
    "df.loc[(df['fam_status'] == 'married') & (df['income_flag'] == 'High'), 'profile_age'] = 'high-income married adult'"
   ]
  },
  {
   "cell_type": "code",
   "execution_count": 27,
   "id": "fc72312e",
   "metadata": {},
   "outputs": [],
   "source": [
    "#creating profile for \"mid-income married adult\"\n",
    "df.loc[(df['fam_status'] == 'married') & (df['income_flag'] == 'Middle'), 'profile_age'] = 'mid-income married adult'"
   ]
  },
  {
   "cell_type": "code",
   "execution_count": 28,
   "id": "70d2e5f7",
   "metadata": {},
   "outputs": [],
   "source": [
    "#creating profile for \"low-income married adult\"\n",
    "df.loc[(df['fam_status'] == 'married') & (df['income_flag'] == 'Low'), 'profile_age'] = 'low-income married adult'"
   ]
  },
  {
   "cell_type": "code",
   "execution_count": 29,
   "id": "08a408cf",
   "metadata": {},
   "outputs": [],
   "source": [
    "#creating profile for \"high-income divorced/widowed adult\"\n",
    "df.loc[(df['fam_status'] == 'divorced/widowed') & (df['income_flag'] == 'High'), 'profile_age'] = 'high-income divored/widowed adult'"
   ]
  },
  {
   "cell_type": "code",
   "execution_count": 30,
   "id": "ad50bbc0",
   "metadata": {},
   "outputs": [],
   "source": [
    "#creating profile for \"mid-income divorced/widowed adult\"\n",
    "df.loc[(df['fam_status'] == 'divorced/widowed') & (df['income_flag'] == 'Middle'), 'profile_age'] = 'mid-income divorced/widowed adult'"
   ]
  },
  {
   "cell_type": "code",
   "execution_count": 31,
   "id": "8e1ba094",
   "metadata": {},
   "outputs": [],
   "source": [
    "#creating profile for \"low-income divorced/widowed adult\"\n",
    "df.loc[(df['fam_status'] == 'divorced/widowed') & (df['income_flag'] == 'Low'), 'profile_age'] = 'low-income divorced/widowed adult'"
   ]
  },
  {
   "cell_type": "code",
   "execution_count": 32,
   "id": "9ee38451",
   "metadata": {},
   "outputs": [],
   "source": [
    "#creating profile for \"high-income cohabiting adult\"\n",
    "df.loc[(df['fam_status'] == 'living with parents or siblings') & (df['income_flag'] == 'High'), 'profile_age'] = 'high-income living with family adult'"
   ]
  },
  {
   "cell_type": "code",
   "execution_count": 33,
   "id": "ba9ab6a7",
   "metadata": {},
   "outputs": [],
   "source": [
    "#creating profile for \"mid-income cohabiting adult\"\n",
    "df.loc[(df['fam_status'] == 'living with parents or siblings') & (df['income_flag'] == 'Middle'), 'profile_age'] = 'mid-income living with family adult'"
   ]
  },
  {
   "cell_type": "code",
   "execution_count": 34,
   "id": "0af26c6a",
   "metadata": {},
   "outputs": [],
   "source": [
    "#creating profile for \"low-income cohabiting adult\"\n",
    "df.loc[(df['fam_status'] == 'living with parents or siblings') & (df['income_flag'] == 'Low'), 'profile_age'] = 'low-income living with family adult'"
   ]
  },
  {
   "cell_type": "code",
   "execution_count": 35,
   "id": "e50f0d9f",
   "metadata": {},
   "outputs": [],
   "source": [
    "# labelling everyone else as \"other\"\n",
    "df['profile_age'] = df['profile_age'].fillna('other')"
   ]
  },
  {
   "cell_type": "code",
   "execution_count": 36,
   "id": "913853c2",
   "metadata": {},
   "outputs": [
    {
     "data": {
      "text/plain": [
       "mid-income married adult             6479151\n",
       "high-income married adult            4787784\n",
       "low-income married adult             3952688\n",
       "other                                1999613\n",
       "low-income single adult              1246336\n",
       "high-income divored/widowed adult     849526\n",
       "high-income single adult              775930\n",
       "mid-income divorced/widowed adult     756866\n",
       "mid-income single adult               581210\n",
       "low-income divorced/widowed adult     246707\n",
       "Name: profile_age, dtype: int64"
      ]
     },
     "execution_count": 36,
     "metadata": {},
     "output_type": "execute_result"
    }
   ],
   "source": [
    "df['profile_age'].value_counts(dropna = False)"
   ]
  },
  {
   "cell_type": "markdown",
   "id": "741cef78",
   "metadata": {},
   "source": [
    "#### Creating a column that looks at income and dependants"
   ]
  },
  {
   "cell_type": "code",
   "execution_count": 37,
   "id": "7e01f908",
   "metadata": {},
   "outputs": [],
   "source": [
    "#creating profile for \"high-income family\"\n",
    "df.loc[(df['dependants_loc'] == 'Has dependants') & (df['income_flag'] == 'High'), 'profile_fam'] = 'high-income family'"
   ]
  },
  {
   "cell_type": "code",
   "execution_count": 38,
   "id": "e8407cc7",
   "metadata": {},
   "outputs": [],
   "source": [
    "#creating profile for \"mid-income family\"\n",
    "df.loc[(df['dependants_loc'] == 'Has dependants') & (df['income_flag'] == 'Middle'), 'profile_fam'] = 'mid-income family'"
   ]
  },
  {
   "cell_type": "code",
   "execution_count": 39,
   "id": "9d980d24",
   "metadata": {},
   "outputs": [],
   "source": [
    "#creating profile for \"low-income family\"\n",
    "df.loc[(df['dependants_loc'] == 'Has dependants') & (df['income_flag'] == 'Low'), 'profile_fam'] = 'low-income family'"
   ]
  },
  {
   "cell_type": "code",
   "execution_count": 40,
   "id": "b972ca9e",
   "metadata": {},
   "outputs": [],
   "source": [
    "#creating profile for \"high-income no dependants\"\n",
    "df.loc[(df['dependants_loc'] == 'No dependants') & (df['income_flag'] == 'High'), 'profile_fam'] = 'high-income no dependants'"
   ]
  },
  {
   "cell_type": "code",
   "execution_count": 41,
   "id": "132bb12d",
   "metadata": {},
   "outputs": [],
   "source": [
    "#creating profile for \"mid-income no dependants\"\n",
    "df.loc[(df['dependants_loc'] == 'No dependants') & (df['income_flag'] == 'Middle'), 'profile_fam'] = 'mid-income no dependants'"
   ]
  },
  {
   "cell_type": "code",
   "execution_count": 42,
   "id": "5c4a8f48",
   "metadata": {},
   "outputs": [],
   "source": [
    "#creating profile for \"low-income no dependants\"\n",
    "df.loc[(df['dependants_loc'] == 'No dependants') & (df['income_flag'] == 'Low'), 'profile_fam'] = 'low-income no dependants'"
   ]
  },
  {
   "cell_type": "code",
   "execution_count": 43,
   "id": "dcb20001",
   "metadata": {},
   "outputs": [
    {
     "data": {
      "text/plain": [
       "mid-income family            6984096\n",
       "high-income family           4800537\n",
       "low-income family            4471795\n",
       "mid-income no dependants     2300884\n",
       "high-income no dependants    1625456\n",
       "low-income no dependants     1493043\n",
       "Name: profile_fam, dtype: int64"
      ]
     },
     "execution_count": 43,
     "metadata": {},
     "output_type": "execute_result"
    }
   ],
   "source": [
    "df['profile_fam'].value_counts(dropna = False)"
   ]
  },
  {
   "cell_type": "code",
   "execution_count": 44,
   "id": "751f0a7f",
   "metadata": {},
   "outputs": [
    {
     "data": {
      "text/plain": [
       "(array([0, 1, 2, 3, 4, 5]),\n",
       " [Text(0, 0, 'mid-income family'),\n",
       "  Text(1, 0, 'high-income family'),\n",
       "  Text(2, 0, 'low-income family'),\n",
       "  Text(3, 0, 'mid-income no dependants'),\n",
       "  Text(4, 0, 'high-income no dependants'),\n",
       "  Text(5, 0, 'low-income no dependants')])"
      ]
     },
     "execution_count": 44,
     "metadata": {},
     "output_type": "execute_result"
    },
    {
     "data": {
      "image/png": "[encoded data removed]",
      "text/plain": [
       "<Figure size 640x480 with 1 Axes>"
      ]
     },
     "metadata": {},
     "output_type": "display_data"
    }
   ],
   "source": [
    "bar_fam_status= df['profile_fam'].value_counts().plot.bar(color = ['darkgreen', 'green', 'limegreen', 'lawngreen', 'yellowgreen', 'lightgreen'])\n",
    "\n",
    "plt.title(\"Purchases by family status\", fontsize = '18')\n",
    "plt.ylabel('Frequency of customers in millions', fontsize = 12)\n",
    "plt.xticks(rotation=45)"
   ]
  },
  {
   "cell_type": "markdown",
   "id": "8416524f",
   "metadata": {},
   "source": [
    "**Results:** Married couples with dependants, irrespective of income, account for more purchases than adults with no dependants. "
   ]
  },
  {
   "cell_type": "code",
   "execution_count": 45,
   "id": "3292843b",
   "metadata": {},
   "outputs": [
    {
     "data": {
      "text/plain": [
       "(21675811, 37)"
      ]
     },
     "execution_count": 45,
     "metadata": {},
     "output_type": "execute_result"
    }
   ],
   "source": [
    "#checking added column\n",
    "df.shape"
   ]
  },
  {
   "cell_type": "code",
   "execution_count": 46,
   "id": "513e6d06",
   "metadata": {},
   "outputs": [
    {
     "data": {
      "text/plain": [
       "Has dependants    0.74998\n",
       "No dependants     0.25002\n",
       "Name: dependants_loc, dtype: float64"
      ]
     },
     "execution_count": 46,
     "metadata": {},
     "output_type": "execute_result"
    }
   ],
   "source": [
    "df['dependants_loc'].value_counts(normalize = True)"
   ]
  },
  {
   "cell_type": "markdown",
   "id": "f2abbc64",
   "metadata": {},
   "source": [
    "**Results:** we have three times as many customers with dependants as we do without"
   ]
  },
  {
   "cell_type": "code",
   "execution_count": 47,
   "id": "ff14c0e3",
   "metadata": {},
   "outputs": [
    {
     "data": {
      "text/plain": [
       "(array([0, 1]), [Text(0, 0, 'Has dependants'), Text(1, 0, 'No dependants')])"
      ]
     },
     "execution_count": 47,
     "metadata": {},
     "output_type": "execute_result"
    },
    {
     "data": {
      "image/png": "[encoded data removed]",
      "text/plain": [
       "<Figure size 640x480 with 1 Axes>"
      ]
     },
     "metadata": {},
     "output_type": "display_data"
    }
   ],
   "source": [
    "bar_dependants = df['dependants_loc'].value_counts().sort_index().plot.bar(color = ['dodgerblue', 'lightblue'])\n",
    "\n",
    "plt.title(\"Dependants vs No Dependants\", fontsize = '18')\n",
    "plt.ylabel('Frequency of customers in millions', fontsize = 12)\n",
    "plt.xticks(rotation=45)"
   ]
  },
  {
   "cell_type": "code",
   "execution_count": 48,
   "id": "1b78370b",
   "metadata": {},
   "outputs": [],
   "source": [
    "#exploring relationship between dependants and region\n",
    "ct_dependants = pd.crosstab(df['region'], df['dependants_loc'], dropna = False)"
   ]
  },
  {
   "cell_type": "code",
   "execution_count": 49,
   "id": "bed787a6",
   "metadata": {},
   "outputs": [
    {
     "data": {
      "text/html": [
       "<div>\n",
       "<style scoped>\n",
       "    .dataframe tbody tr th:only-of-type {\n",
       "        vertical-align: middle;\n",
       "    }\n",
       "\n",
       "    .dataframe tbody tr th {\n",
       "        vertical-align: top;\n",
       "    }\n",
       "\n",
       "    .dataframe thead th {\n",
       "        text-align: right;\n",
       "    }\n",
       "</style>\n",
       "<table border=\"1\" class=\"dataframe\">\n",
       "  <thead>\n",
       "    <tr style=\"text-align: right;\">\n",
       "      <th>dependants_loc</th>\n",
       "      <th>Has dependants</th>\n",
       "      <th>No dependants</th>\n",
       "    </tr>\n",
       "    <tr>\n",
       "      <th>region</th>\n",
       "      <th></th>\n",
       "      <th></th>\n",
       "    </tr>\n",
       "  </thead>\n",
       "  <tbody>\n",
       "    <tr>\n",
       "      <th>Midwest</th>\n",
       "      <td>3807651</td>\n",
       "      <td>1276416</td>\n",
       "    </tr>\n",
       "    <tr>\n",
       "      <th>Northeast</th>\n",
       "      <td>2878220</td>\n",
       "      <td>948589</td>\n",
       "    </tr>\n",
       "    <tr>\n",
       "      <th>South</th>\n",
       "      <td>5409261</td>\n",
       "      <td>1807742</td>\n",
       "    </tr>\n",
       "    <tr>\n",
       "      <th>West</th>\n",
       "      <td>4161296</td>\n",
       "      <td>1386636</td>\n",
       "    </tr>\n",
       "  </tbody>\n",
       "</table>\n",
       "</div>"
      ],
      "text/plain": [
       "dependants_loc  Has dependants  No dependants\n",
       "region                                       \n",
       "Midwest                3807651        1276416\n",
       "Northeast              2878220         948589\n",
       "South                  5409261        1807742\n",
       "West                   4161296        1386636"
      ]
     },
     "execution_count": 49,
     "metadata": {},
     "output_type": "execute_result"
    }
   ],
   "source": [
    "ct_dependants"
   ]
  },
  {
   "cell_type": "markdown",
   "id": "737f49cd",
   "metadata": {},
   "source": [
    "### 3. Customer segmentation by department"
   ]
  },
  {
   "cell_type": "markdown",
   "id": "0c70556d",
   "metadata": {},
   "source": [
    "##### Looking at various customer purchasing habits"
   ]
  },
  {
   "cell_type": "code",
   "execution_count": 50,
   "id": "8e540374",
   "metadata": {},
   "outputs": [],
   "source": [
    "#creating department dictionary\n",
    "dpt_map = dict(zip(df_deps['department_id'], df_deps['department']))"
   ]
  },
  {
   "cell_type": "code",
   "execution_count": 51,
   "id": "5affffa1",
   "metadata": {},
   "outputs": [
    {
     "data": {
      "text/plain": [
       "{1: 'frozen',\n",
       " 2: 'other',\n",
       " 3: 'bakery',\n",
       " 4: 'produce',\n",
       " 5: 'alcohol',\n",
       " 6: 'international',\n",
       " 7: 'beverages',\n",
       " 8: 'pets',\n",
       " 9: 'dry goods pasta',\n",
       " 10: 'bulk',\n",
       " 11: 'personal care',\n",
       " 12: 'meat seafood',\n",
       " 13: 'pantry',\n",
       " 14: 'breakfast',\n",
       " 15: 'canned goods',\n",
       " 16: 'dairy eggs',\n",
       " 17: 'household',\n",
       " 18: 'babies',\n",
       " 19: 'snacks',\n",
       " 20: 'deli',\n",
       " 21: 'missing'}"
      ]
     },
     "execution_count": 51,
     "metadata": {},
     "output_type": "execute_result"
    }
   ],
   "source": [
    "dpt_map"
   ]
  },
  {
   "cell_type": "code",
   "execution_count": 52,
   "id": "011c3bc8",
   "metadata": {},
   "outputs": [],
   "source": [
    "df['department'] = df['department_id'].map(dpt_map)"
   ]
  },
  {
   "cell_type": "code",
   "execution_count": 53,
   "id": "0b229f24",
   "metadata": {},
   "outputs": [
    {
     "data": {
      "text/plain": [
       "(21675811, 38)"
      ]
     },
     "execution_count": 53,
     "metadata": {},
     "output_type": "execute_result"
    }
   ],
   "source": [
    "df.shape"
   ]
  },
  {
   "cell_type": "code",
   "execution_count": 54,
   "id": "5d056da2",
   "metadata": {},
   "outputs": [
    {
     "data": {
      "text/plain": [
       "produce            6356619\n",
       "dairy eggs         3624459\n",
       "snacks             1936252\n",
       "beverages          1800791\n",
       "frozen             1485866\n",
       "pantry             1247905\n",
       "bakery              784055\n",
       "canned goods        707871\n",
       "deli                702708\n",
       "dry goods pasta     575326\n",
       "household           489986\n",
       "meat seafood        473084\n",
       "breakfast           469289\n",
       "personal care       296820\n",
       "babies              286865\n",
       "international       178998\n",
       "alcohol             101077\n",
       "pets                 65127\n",
       "missing              45310\n",
       "other                24033\n",
       "bulk                 23370\n",
       "Name: department, dtype: int64"
      ]
     },
     "execution_count": 54,
     "metadata": {},
     "output_type": "execute_result"
    }
   ],
   "source": [
    "df['department'].value_counts()"
   ]
  },
  {
   "cell_type": "markdown",
   "id": "2b58a1a2",
   "metadata": {},
   "source": [
    "#### 3.1 Alcohol drinkers"
   ]
  },
  {
   "cell_type": "code",
   "execution_count": 55,
   "id": "a3308f02",
   "metadata": {},
   "outputs": [],
   "source": [
    "#creating non-alcohol drinker column\n",
    "\n",
    "df.loc[df['department'] !='alcohol', 'alcohol_drinker'] = 'No'\n",
    "df.loc[df['department'] =='alcohol', 'alcohol_drinker'] = 'Yes'"
   ]
  },
  {
   "cell_type": "code",
   "execution_count": 56,
   "id": "4f29dc54",
   "metadata": {},
   "outputs": [
    {
     "data": {
      "text/plain": [
       "No     21574734\n",
       "Yes      101077\n",
       "Name: alcohol_drinker, dtype: int64"
      ]
     },
     "execution_count": 56,
     "metadata": {},
     "output_type": "execute_result"
    }
   ],
   "source": [
    "df['alcohol_drinker'].value_counts(dropna = False)"
   ]
  },
  {
   "cell_type": "code",
   "execution_count": 57,
   "id": "fa954234",
   "metadata": {},
   "outputs": [
    {
     "data": {
      "text/plain": [
       "(21675811, 39)"
      ]
     },
     "execution_count": 57,
     "metadata": {},
     "output_type": "execute_result"
    }
   ],
   "source": [
    "#checking output of df\n",
    "df.shape"
   ]
  },
  {
   "cell_type": "code",
   "execution_count": 58,
   "id": "2c6711bf",
   "metadata": {},
   "outputs": [
    {
     "data": {
      "text/plain": [
       "Text(0.5, 1.0, 'Distribution of alcohol-drinkers ')"
      ]
     },
     "execution_count": 58,
     "metadata": {},
     "output_type": "execute_result"
    },
    {
     "data": {
      "image/png": "[encoded data removed]",
      "text/plain": [
       "<Figure size 640x480 with 1 Axes>"
      ]
     },
     "metadata": {},
     "output_type": "display_data"
    }
   ],
   "source": [
    "# Drawing a pie chart for alcohol drinking profiling\n",
    "\n",
    "alcohol_drinker_pie = df['alcohol_drinker'].value_counts().plot.pie(labels = ['Drinker','Non-drinker'], autopct=('%.2f%%'), colors = ['darkblue', 'lightblue'], label = '', explode = [0,0.1])\n",
    "alcohol_drinker_pie.legend(title = 'Customer Drinking Status: ', loc = 'lower right')\n",
    "plt.title(\"Distribution of alcohol-drinkers \", fontsize = '18')\n"
   ]
  },
  {
   "cell_type": "markdown",
   "id": "9371b052",
   "metadata": {},
   "source": [
    "#### 3.2 Pet owners"
   ]
  },
  {
   "cell_type": "code",
   "execution_count": 59,
   "id": "b51dde02",
   "metadata": {},
   "outputs": [],
   "source": [
    "# Creating pet_owner column\n",
    "\n",
    "df.loc[df['department'] == 'pets', 'pet_owner'] = 'Yes'\n",
    "df.loc[df['department'] != 'pets', 'pet_owner'] = 'No'"
   ]
  },
  {
   "cell_type": "code",
   "execution_count": 60,
   "id": "87acc511",
   "metadata": {},
   "outputs": [
    {
     "data": {
      "text/plain": [
       "(21675811, 40)"
      ]
     },
     "execution_count": 60,
     "metadata": {},
     "output_type": "execute_result"
    }
   ],
   "source": [
    "df.shape"
   ]
  },
  {
   "cell_type": "code",
   "execution_count": 61,
   "id": "b1748932",
   "metadata": {},
   "outputs": [
    {
     "data": {
      "text/plain": [
       "No     21610684\n",
       "Yes       65127\n",
       "Name: pet_owner, dtype: int64"
      ]
     },
     "execution_count": 61,
     "metadata": {},
     "output_type": "execute_result"
    }
   ],
   "source": [
    "df['pet_owner'].value_counts()"
   ]
  },
  {
   "cell_type": "code",
   "execution_count": 62,
   "id": "8b505e24",
   "metadata": {},
   "outputs": [
    {
     "data": {
      "text/plain": [
       "Text(0.5, 1.0, 'Distribution of Pet-owners ')"
      ]
     },
     "execution_count": 62,
     "metadata": {},
     "output_type": "execute_result"
    },
    {
     "data": {
      "image/png": "[encoded data removed]",
      "text/plain": [
       "<Figure size 640x480 with 1 Axes>"
      ]
     },
     "metadata": {},
     "output_type": "display_data"
    }
   ],
   "source": [
    "# Drawing a pie chart for pet owners drinking profiling\n",
    "\n",
    "pie_pet_owner = df['pet_owner'].value_counts().plot.pie(labels = ['Pet owner','Non-pet owner'], autopct=('%.2f%%'), colors = ['darkgreen', 'lightgreen'], label = '', explode = [0,0.1])\n",
    "pie_pet_owner.legend(title = 'Customer Pet-owning Status: ', loc = 'lower right')\n",
    "plt.title(\"Distribution of Pet-owners \", fontsize = '18')"
   ]
  },
  {
   "cell_type": "markdown",
   "id": "054b2cfe",
   "metadata": {},
   "source": [
    "#### 3.3 Order time of Day"
   ]
  },
  {
   "cell_type": "code",
   "execution_count": 63,
   "id": "e0658dfc",
   "metadata": {},
   "outputs": [
    {
     "data": {
      "text/plain": [
       "0      145594\n",
       "1       76684\n",
       "2       46038\n",
       "3       34325\n",
       "4       35539\n",
       "5       59118\n",
       "6      196399\n",
       "7      604822\n",
       "8     1162813\n",
       "9     1654637\n",
       "10    1854397\n",
       "11    1831330\n",
       "12    1746600\n",
       "13    1776933\n",
       "14    1797660\n",
       "15    1774063\n",
       "16    1688619\n",
       "17    1387429\n",
       "18    1085960\n",
       "19     835952\n",
       "20     652455\n",
       "21     533943\n",
       "22     425446\n",
       "23     269055\n",
       "Name: order_hour_of_day, dtype: int64"
      ]
     },
     "execution_count": 63,
     "metadata": {},
     "output_type": "execute_result"
    }
   ],
   "source": [
    "#distribution of orders within 24 hours day\n",
    "\n",
    "df['order_hour_of_day'].value_counts(dropna = False).sort_index()"
   ]
  },
  {
   "cell_type": "markdown",
   "id": "e7d28b8a",
   "metadata": {},
   "source": [
    "**Observations:** Unsurprisingly, the most popular hours of the day for purchases are within the typical working day, 9 - 6, although there are also some strong sales before 9 and in the evening."
   ]
  },
  {
   "cell_type": "code",
   "execution_count": 64,
   "id": "639ef954",
   "metadata": {},
   "outputs": [],
   "source": [
    "#create list for new order_time_day column\n",
    "result = []\n",
    "\n",
    "for hour in df['order_hour_of_day']:\n",
    "    if hour in [0, 1, 2, 3, 4, 17, 18, 19, 20, 21, 22, 23]:\n",
    "        result.append('Night owl')\n",
    "    elif hour in [5, 6, 7, 8]:\n",
    "        result.append('Early bird')\n",
    "    else:\n",
    "        result.append('Regular')"
   ]
  },
  {
   "cell_type": "code",
   "execution_count": 65,
   "id": "b05127f4",
   "metadata": {},
   "outputs": [
    {
     "data": {
      "text/plain": [
       "['Early bird',\n",
       " 'Regular',\n",
       " 'Early bird',\n",
       " 'Regular',\n",
       " 'Regular',\n",
       " 'Early bird',\n",
       " 'Early bird',\n",
       " 'Early bird',\n",
       " 'Regular',\n",
       " 'Early bird',\n",
       " 'Regular',\n",
       " 'Regular',\n",
       " 'Early bird',\n",
       " 'Early bird',\n",
       " 'Early bird',\n",
       " 'Regular',\n",
       " 'Early bird',\n",
       " 'Early bird',\n",
       " 'Regular',\n",
       " 'Regular',\n",
       " 'Early bird',\n",
       " 'Early bird',\n",
       " 'Regular',\n",
       " 'Early bird',\n",
       " 'Regular',\n",
       " 'Early bird',\n",
       " 'Regular',\n",
       " 'Early bird',\n",
       " 'Regular',\n",
       " 'Regular',\n",
       " 'Regular',\n",
       " 'Regular',\n",
       " 'Early bird',\n",
       " 'Regular',\n",
       " 'Regular',\n",
       " 'Regular',\n",
       " 'Regular',\n",
       " 'Regular',\n",
       " 'Early bird',\n",
       " 'Regular',\n",
       " 'Regular',\n",
       " 'Early bird',\n",
       " 'Regular',\n",
       " 'Regular',\n",
       " 'Regular',\n",
       " 'Regular',\n",
       " 'Regular',\n",
       " 'Night owl',\n",
       " 'Early bird',\n",
       " 'Regular',\n",
       " 'Regular',\n",
       " 'Regular',\n",
       " 'Regular',\n",
       " 'Regular',\n",
       " 'Regular',\n",
       " 'Regular',\n",
       " 'Regular',\n",
       " 'Regular',\n",
       " 'Regular',\n",
       " 'Regular',\n",
       " 'Regular',\n",
       " 'Regular',\n",
       " 'Regular',\n",
       " 'Regular',\n",
       " 'Regular',\n",
       " 'Regular',\n",
       " 'Regular',\n",
       " 'Regular',\n",
       " 'Regular',\n",
       " 'Regular',\n",
       " 'Regular',\n",
       " 'Regular',\n",
       " 'Regular',\n",
       " 'Regular',\n",
       " 'Regular',\n",
       " 'Regular',\n",
       " 'Regular',\n",
       " 'Regular',\n",
       " 'Regular',\n",
       " 'Regular',\n",
       " 'Regular',\n",
       " 'Regular',\n",
       " 'Regular',\n",
       " 'Early bird',\n",
       " 'Regular',\n",
       " 'Regular',\n",
       " 'Regular',\n",
       " 'Night owl',\n",
       " 'Regular',\n",
       " 'Regular',\n",
       " 'Regular',\n",
       " 'Regular',\n",
       " 'Regular',\n",
       " 'Regular',\n",
       " 'Night owl',\n",
       " 'Regular',\n",
       " 'Regular',\n",
       " 'Night owl',\n",
       " 'Regular',\n",
       " 'Night owl',\n",
       " 'Night owl',\n",
       " 'Night owl',\n",
       " 'Regular',\n",
       " 'Regular',\n",
       " 'Regular',\n",
       " 'Regular',\n",
       " 'Regular',\n",
       " 'Regular',\n",
       " 'Regular',\n",
       " 'Regular',\n",
       " 'Regular',\n",
       " 'Regular',\n",
       " 'Regular',\n",
       " 'Regular',\n",
       " 'Regular',\n",
       " 'Regular',\n",
       " 'Night owl',\n",
       " 'Regular',\n",
       " 'Regular',\n",
       " 'Regular',\n",
       " 'Regular',\n",
       " 'Regular',\n",
       " 'Regular',\n",
       " 'Regular',\n",
       " 'Regular',\n",
       " 'Regular',\n",
       " 'Regular',\n",
       " 'Regular',\n",
       " 'Regular',\n",
       " 'Regular',\n",
       " 'Regular',\n",
       " 'Regular',\n",
       " 'Regular',\n",
       " 'Regular',\n",
       " 'Regular',\n",
       " 'Regular',\n",
       " 'Regular',\n",
       " 'Regular',\n",
       " 'Regular',\n",
       " 'Regular',\n",
       " 'Regular',\n",
       " 'Regular',\n",
       " 'Regular',\n",
       " 'Regular',\n",
       " 'Regular',\n",
       " 'Regular',\n",
       " 'Regular',\n",
       " 'Regular',\n",
       " 'Regular',\n",
       " 'Regular',\n",
       " 'Regular',\n",
       " 'Regular',\n",
       " 'Regular',\n",
       " 'Regular',\n",
       " 'Regular',\n",
       " 'Regular',\n",
       " 'Regular',\n",
       " 'Regular',\n",
       " 'Regular',\n",
       " 'Regular',\n",
       " 'Regular',\n",
       " 'Regular',\n",
       " 'Regular',\n",
       " 'Regular',\n",
       " 'Regular',\n",
       " 'Regular',\n",
       " 'Regular',\n",
       " 'Regular',\n",
       " 'Regular',\n",
       " 'Regular',\n",
       " 'Regular',\n",
       " 'Regular',\n",
       " 'Regular',\n",
       " 'Regular',\n",
       " 'Regular',\n",
       " 'Regular',\n",
       " 'Regular',\n",
       " 'Regular',\n",
       " 'Regular',\n",
       " 'Regular',\n",
       " 'Regular',\n",
       " 'Regular',\n",
       " 'Regular',\n",
       " 'Night owl',\n",
       " 'Regular',\n",
       " 'Regular',\n",
       " 'Regular',\n",
       " 'Regular',\n",
       " 'Regular',\n",
       " 'Regular',\n",
       " 'Regular',\n",
       " 'Regular',\n",
       " 'Regular',\n",
       " 'Regular',\n",
       " 'Regular',\n",
       " 'Regular',\n",
       " 'Night owl',\n",
       " 'Regular',\n",
       " 'Regular',\n",
       " 'Regular',\n",
       " 'Regular',\n",
       " 'Night owl',\n",
       " 'Regular',\n",
       " 'Night owl',\n",
       " 'Night owl',\n",
       " 'Night owl',\n",
       " 'Night owl',\n",
       " 'Night owl',\n",
       " 'Night owl',\n",
       " 'Night owl',\n",
       " 'Night owl',\n",
       " 'Night owl',\n",
       " 'Night owl',\n",
       " 'Night owl',\n",
       " 'Night owl',\n",
       " 'Night owl',\n",
       " 'Night owl',\n",
       " 'Night owl',\n",
       " 'Night owl',\n",
       " 'Night owl',\n",
       " 'Night owl',\n",
       " 'Night owl',\n",
       " 'Night owl',\n",
       " 'Night owl',\n",
       " 'Night owl',\n",
       " 'Regular',\n",
       " 'Regular',\n",
       " 'Regular',\n",
       " 'Regular',\n",
       " 'Regular',\n",
       " 'Regular',\n",
       " 'Regular',\n",
       " 'Regular',\n",
       " 'Regular',\n",
       " 'Regular',\n",
       " 'Regular',\n",
       " 'Regular',\n",
       " 'Regular',\n",
       " 'Early bird',\n",
       " 'Regular',\n",
       " 'Regular',\n",
       " 'Regular',\n",
       " 'Regular',\n",
       " 'Regular',\n",
       " 'Regular',\n",
       " 'Regular',\n",
       " 'Regular',\n",
       " 'Regular',\n",
       " 'Regular',\n",
       " 'Regular',\n",
       " 'Regular',\n",
       " 'Early bird',\n",
       " 'Regular',\n",
       " 'Regular',\n",
       " 'Regular',\n",
       " 'Regular',\n",
       " 'Regular',\n",
       " 'Regular',\n",
       " 'Regular',\n",
       " 'Regular',\n",
       " 'Regular',\n",
       " 'Regular',\n",
       " 'Regular',\n",
       " 'Regular',\n",
       " 'Regular',\n",
       " 'Regular',\n",
       " 'Regular',\n",
       " 'Regular',\n",
       " 'Regular',\n",
       " 'Regular',\n",
       " 'Regular',\n",
       " 'Regular',\n",
       " 'Regular',\n",
       " 'Regular',\n",
       " 'Regular',\n",
       " 'Early bird',\n",
       " 'Early bird',\n",
       " 'Regular',\n",
       " 'Regular',\n",
       " 'Regular',\n",
       " 'Regular',\n",
       " 'Regular',\n",
       " 'Regular',\n",
       " 'Regular',\n",
       " 'Regular',\n",
       " 'Regular',\n",
       " 'Regular',\n",
       " 'Regular',\n",
       " 'Regular',\n",
       " 'Regular',\n",
       " 'Regular',\n",
       " 'Regular',\n",
       " 'Regular',\n",
       " 'Regular',\n",
       " 'Regular',\n",
       " 'Early bird',\n",
       " 'Regular',\n",
       " 'Regular',\n",
       " 'Regular',\n",
       " 'Regular',\n",
       " 'Regular',\n",
       " 'Regular',\n",
       " 'Regular',\n",
       " 'Regular',\n",
       " 'Regular',\n",
       " 'Regular',\n",
       " 'Early bird',\n",
       " 'Regular',\n",
       " 'Regular',\n",
       " 'Regular',\n",
       " 'Regular',\n",
       " 'Regular',\n",
       " 'Regular',\n",
       " 'Regular',\n",
       " 'Regular',\n",
       " 'Early bird',\n",
       " 'Regular',\n",
       " 'Regular',\n",
       " 'Regular',\n",
       " 'Regular',\n",
       " 'Regular',\n",
       " 'Early bird',\n",
       " 'Early bird',\n",
       " 'Early bird',\n",
       " 'Regular',\n",
       " 'Regular',\n",
       " 'Regular',\n",
       " 'Regular',\n",
       " 'Regular',\n",
       " 'Regular',\n",
       " 'Regular',\n",
       " 'Regular',\n",
       " 'Regular',\n",
       " 'Regular',\n",
       " 'Regular',\n",
       " 'Early bird',\n",
       " 'Regular',\n",
       " 'Regular',\n",
       " 'Regular',\n",
       " 'Regular',\n",
       " 'Regular',\n",
       " 'Regular',\n",
       " 'Regular',\n",
       " 'Regular',\n",
       " 'Regular',\n",
       " 'Regular',\n",
       " 'Regular',\n",
       " 'Regular',\n",
       " 'Regular',\n",
       " 'Regular',\n",
       " 'Regular',\n",
       " 'Regular',\n",
       " 'Regular',\n",
       " 'Regular',\n",
       " 'Regular',\n",
       " 'Early bird',\n",
       " 'Early bird',\n",
       " 'Early bird',\n",
       " 'Regular',\n",
       " 'Regular',\n",
       " 'Regular',\n",
       " 'Regular',\n",
       " 'Regular',\n",
       " 'Regular',\n",
       " 'Regular',\n",
       " 'Regular',\n",
       " 'Regular',\n",
       " 'Regular',\n",
       " 'Regular',\n",
       " 'Regular',\n",
       " 'Early bird',\n",
       " 'Regular',\n",
       " 'Early bird',\n",
       " 'Night owl',\n",
       " 'Regular',\n",
       " 'Early bird',\n",
       " 'Regular',\n",
       " 'Regular',\n",
       " 'Regular',\n",
       " 'Early bird',\n",
       " 'Regular',\n",
       " 'Regular',\n",
       " 'Early bird',\n",
       " 'Regular',\n",
       " 'Regular',\n",
       " 'Regular',\n",
       " 'Early bird',\n",
       " 'Early bird',\n",
       " 'Regular',\n",
       " 'Regular',\n",
       " 'Regular',\n",
       " 'Regular',\n",
       " 'Early bird',\n",
       " 'Regular',\n",
       " 'Regular',\n",
       " 'Regular',\n",
       " 'Regular',\n",
       " 'Regular',\n",
       " 'Regular',\n",
       " 'Regular',\n",
       " 'Regular',\n",
       " 'Early bird',\n",
       " 'Regular',\n",
       " 'Night owl',\n",
       " 'Regular',\n",
       " 'Regular',\n",
       " 'Regular',\n",
       " 'Regular',\n",
       " 'Regular',\n",
       " 'Regular',\n",
       " 'Early bird',\n",
       " 'Early bird',\n",
       " 'Early bird',\n",
       " 'Regular',\n",
       " 'Regular',\n",
       " 'Regular',\n",
       " 'Regular',\n",
       " 'Regular',\n",
       " 'Early bird',\n",
       " 'Early bird',\n",
       " 'Regular',\n",
       " 'Early bird',\n",
       " 'Regular',\n",
       " 'Regular',\n",
       " 'Regular',\n",
       " 'Early bird',\n",
       " 'Regular',\n",
       " 'Regular',\n",
       " 'Early bird',\n",
       " 'Regular',\n",
       " 'Regular',\n",
       " 'Regular',\n",
       " 'Night owl',\n",
       " 'Regular',\n",
       " 'Regular',\n",
       " 'Regular',\n",
       " 'Early bird',\n",
       " 'Regular',\n",
       " 'Regular',\n",
       " 'Regular',\n",
       " 'Regular',\n",
       " 'Regular',\n",
       " 'Regular',\n",
       " 'Regular',\n",
       " 'Regular',\n",
       " 'Regular',\n",
       " 'Regular',\n",
       " 'Regular',\n",
       " 'Regular',\n",
       " 'Regular',\n",
       " 'Early bird',\n",
       " 'Regular',\n",
       " 'Regular',\n",
       " 'Regular',\n",
       " 'Early bird',\n",
       " 'Regular',\n",
       " 'Early bird',\n",
       " 'Regular',\n",
       " 'Early bird',\n",
       " 'Regular',\n",
       " 'Regular',\n",
       " 'Regular',\n",
       " 'Regular',\n",
       " 'Regular',\n",
       " 'Regular',\n",
       " 'Regular',\n",
       " 'Regular',\n",
       " 'Regular',\n",
       " 'Early bird',\n",
       " 'Night owl',\n",
       " 'Regular',\n",
       " 'Regular',\n",
       " 'Regular',\n",
       " 'Regular',\n",
       " 'Early bird',\n",
       " 'Regular',\n",
       " 'Regular',\n",
       " 'Regular',\n",
       " 'Regular',\n",
       " 'Regular',\n",
       " 'Regular',\n",
       " 'Regular',\n",
       " 'Early bird',\n",
       " 'Regular',\n",
       " 'Early bird',\n",
       " 'Regular',\n",
       " 'Early bird',\n",
       " 'Regular',\n",
       " 'Regular',\n",
       " 'Regular',\n",
       " 'Regular',\n",
       " 'Regular',\n",
       " 'Regular',\n",
       " 'Regular',\n",
       " 'Early bird',\n",
       " 'Regular',\n",
       " 'Regular',\n",
       " 'Regular',\n",
       " 'Early bird',\n",
       " 'Early bird',\n",
       " 'Regular',\n",
       " 'Early bird',\n",
       " 'Regular',\n",
       " 'Regular',\n",
       " 'Regular',\n",
       " 'Early bird',\n",
       " 'Regular',\n",
       " 'Regular',\n",
       " 'Early bird',\n",
       " 'Early bird',\n",
       " 'Early bird',\n",
       " 'Early bird',\n",
       " 'Early bird',\n",
       " 'Early bird',\n",
       " 'Regular',\n",
       " 'Early bird',\n",
       " 'Early bird',\n",
       " 'Early bird',\n",
       " 'Early bird',\n",
       " 'Early bird',\n",
       " 'Early bird',\n",
       " 'Early bird',\n",
       " 'Early bird',\n",
       " 'Early bird',\n",
       " 'Early bird',\n",
       " 'Regular',\n",
       " 'Early bird',\n",
       " 'Regular',\n",
       " 'Regular',\n",
       " 'Regular',\n",
       " 'Regular',\n",
       " 'Regular',\n",
       " 'Regular',\n",
       " 'Regular',\n",
       " 'Night owl',\n",
       " 'Regular',\n",
       " 'Regular',\n",
       " 'Regular',\n",
       " 'Regular',\n",
       " 'Early bird',\n",
       " 'Regular',\n",
       " 'Regular',\n",
       " 'Regular',\n",
       " 'Regular',\n",
       " 'Early bird',\n",
       " 'Regular',\n",
       " 'Regular',\n",
       " 'Early bird',\n",
       " 'Regular',\n",
       " 'Early bird',\n",
       " 'Regular',\n",
       " 'Night owl',\n",
       " 'Regular',\n",
       " 'Regular',\n",
       " 'Regular',\n",
       " 'Regular',\n",
       " 'Regular',\n",
       " 'Early bird',\n",
       " 'Early bird',\n",
       " 'Night owl',\n",
       " 'Early bird',\n",
       " 'Early bird',\n",
       " 'Early bird',\n",
       " 'Early bird',\n",
       " 'Early bird',\n",
       " 'Early bird',\n",
       " 'Early bird',\n",
       " 'Regular',\n",
       " 'Regular',\n",
       " 'Regular',\n",
       " 'Regular',\n",
       " 'Regular',\n",
       " 'Regular',\n",
       " 'Regular',\n",
       " 'Regular',\n",
       " 'Regular',\n",
       " 'Regular',\n",
       " 'Night owl',\n",
       " 'Night owl',\n",
       " 'Night owl',\n",
       " 'Night owl',\n",
       " 'Night owl',\n",
       " 'Night owl',\n",
       " 'Night owl',\n",
       " 'Night owl',\n",
       " 'Night owl',\n",
       " 'Night owl',\n",
       " 'Night owl',\n",
       " 'Night owl',\n",
       " 'Night owl',\n",
       " 'Night owl',\n",
       " 'Night owl',\n",
       " 'Regular',\n",
       " 'Night owl',\n",
       " 'Night owl',\n",
       " 'Night owl',\n",
       " 'Regular',\n",
       " 'Regular',\n",
       " 'Night owl',\n",
       " 'Night owl',\n",
       " 'Regular',\n",
       " 'Regular',\n",
       " 'Regular',\n",
       " 'Night owl',\n",
       " 'Regular',\n",
       " 'Night owl',\n",
       " 'Regular',\n",
       " 'Regular',\n",
       " 'Night owl',\n",
       " 'Regular',\n",
       " 'Regular',\n",
       " 'Regular',\n",
       " 'Night owl',\n",
       " 'Regular',\n",
       " 'Regular',\n",
       " 'Regular',\n",
       " 'Night owl',\n",
       " 'Night owl',\n",
       " 'Night owl',\n",
       " 'Night owl',\n",
       " 'Regular',\n",
       " 'Regular',\n",
       " 'Night owl',\n",
       " 'Night owl',\n",
       " 'Night owl',\n",
       " 'Regular',\n",
       " 'Regular',\n",
       " 'Night owl',\n",
       " 'Night owl',\n",
       " 'Night owl',\n",
       " 'Regular',\n",
       " 'Night owl',\n",
       " 'Regular',\n",
       " 'Night owl',\n",
       " 'Regular',\n",
       " 'Night owl',\n",
       " 'Night owl',\n",
       " 'Night owl',\n",
       " 'Night owl',\n",
       " 'Regular',\n",
       " 'Night owl',\n",
       " 'Regular',\n",
       " 'Regular',\n",
       " 'Regular',\n",
       " 'Regular',\n",
       " 'Night owl',\n",
       " 'Night owl',\n",
       " 'Night owl',\n",
       " 'Night owl',\n",
       " 'Night owl',\n",
       " 'Night owl',\n",
       " 'Night owl',\n",
       " 'Regular',\n",
       " 'Regular',\n",
       " 'Night owl',\n",
       " 'Night owl',\n",
       " 'Regular',\n",
       " 'Night owl',\n",
       " 'Regular',\n",
       " 'Regular',\n",
       " 'Regular',\n",
       " 'Regular',\n",
       " 'Regular',\n",
       " 'Regular',\n",
       " 'Night owl',\n",
       " 'Night owl',\n",
       " 'Regular',\n",
       " 'Night owl',\n",
       " 'Night owl',\n",
       " 'Regular',\n",
       " 'Night owl',\n",
       " 'Regular',\n",
       " 'Night owl',\n",
       " 'Regular',\n",
       " 'Regular',\n",
       " 'Night owl',\n",
       " 'Regular',\n",
       " 'Regular',\n",
       " 'Regular',\n",
       " 'Regular',\n",
       " 'Regular',\n",
       " 'Regular',\n",
       " 'Regular',\n",
       " 'Regular',\n",
       " 'Regular',\n",
       " 'Regular',\n",
       " 'Regular',\n",
       " 'Regular',\n",
       " 'Regular',\n",
       " 'Regular',\n",
       " 'Regular',\n",
       " 'Regular',\n",
       " 'Regular',\n",
       " 'Regular',\n",
       " 'Regular',\n",
       " 'Regular',\n",
       " 'Early bird',\n",
       " 'Regular',\n",
       " 'Regular',\n",
       " 'Regular',\n",
       " 'Early bird',\n",
       " 'Regular',\n",
       " 'Regular',\n",
       " 'Early bird',\n",
       " 'Regular',\n",
       " 'Regular',\n",
       " 'Regular',\n",
       " 'Regular',\n",
       " 'Regular',\n",
       " 'Early bird',\n",
       " 'Regular',\n",
       " 'Regular',\n",
       " 'Regular',\n",
       " 'Regular',\n",
       " 'Regular',\n",
       " 'Regular',\n",
       " 'Regular',\n",
       " 'Regular',\n",
       " 'Regular',\n",
       " 'Early bird',\n",
       " 'Early bird',\n",
       " 'Regular',\n",
       " 'Regular',\n",
       " 'Regular',\n",
       " 'Regular',\n",
       " 'Regular',\n",
       " 'Regular',\n",
       " 'Regular',\n",
       " 'Regular',\n",
       " 'Early bird',\n",
       " 'Regular',\n",
       " 'Regular',\n",
       " 'Regular',\n",
       " 'Early bird',\n",
       " 'Regular',\n",
       " 'Regular',\n",
       " 'Regular',\n",
       " 'Regular',\n",
       " 'Regular',\n",
       " 'Regular',\n",
       " 'Regular',\n",
       " 'Regular',\n",
       " 'Regular',\n",
       " 'Regular',\n",
       " 'Early bird',\n",
       " 'Regular',\n",
       " 'Early bird',\n",
       " 'Regular',\n",
       " 'Regular',\n",
       " 'Early bird',\n",
       " 'Regular',\n",
       " 'Regular',\n",
       " 'Regular',\n",
       " 'Regular',\n",
       " 'Regular',\n",
       " 'Regular',\n",
       " 'Regular',\n",
       " 'Regular',\n",
       " 'Regular',\n",
       " 'Regular',\n",
       " 'Early bird',\n",
       " 'Regular',\n",
       " 'Regular',\n",
       " 'Regular',\n",
       " 'Regular',\n",
       " 'Regular',\n",
       " 'Regular',\n",
       " 'Regular',\n",
       " 'Regular',\n",
       " 'Regular',\n",
       " 'Regular',\n",
       " 'Early bird',\n",
       " 'Early bird',\n",
       " 'Regular',\n",
       " 'Regular',\n",
       " 'Regular',\n",
       " 'Regular',\n",
       " 'Early bird',\n",
       " 'Regular',\n",
       " 'Regular',\n",
       " 'Regular',\n",
       " 'Regular',\n",
       " 'Regular',\n",
       " 'Regular',\n",
       " 'Regular',\n",
       " 'Regular',\n",
       " 'Regular',\n",
       " 'Regular',\n",
       " 'Regular',\n",
       " 'Regular',\n",
       " 'Regular',\n",
       " 'Regular',\n",
       " 'Regular',\n",
       " 'Regular',\n",
       " 'Regular',\n",
       " 'Regular',\n",
       " 'Regular',\n",
       " 'Regular',\n",
       " 'Early bird',\n",
       " 'Regular',\n",
       " 'Regular',\n",
       " 'Regular',\n",
       " 'Regular',\n",
       " 'Regular',\n",
       " 'Regular',\n",
       " 'Regular',\n",
       " 'Regular',\n",
       " 'Regular',\n",
       " 'Regular',\n",
       " 'Regular',\n",
       " 'Regular',\n",
       " 'Regular',\n",
       " 'Regular',\n",
       " 'Regular',\n",
       " 'Regular',\n",
       " 'Regular',\n",
       " 'Regular',\n",
       " 'Regular',\n",
       " 'Regular',\n",
       " 'Regular',\n",
       " 'Regular',\n",
       " 'Regular',\n",
       " 'Regular',\n",
       " 'Regular',\n",
       " 'Regular',\n",
       " 'Regular',\n",
       " 'Regular',\n",
       " 'Regular',\n",
       " 'Regular',\n",
       " 'Regular',\n",
       " 'Regular',\n",
       " 'Regular',\n",
       " 'Regular',\n",
       " 'Regular',\n",
       " 'Regular',\n",
       " 'Regular',\n",
       " 'Regular',\n",
       " 'Regular',\n",
       " 'Regular',\n",
       " 'Regular',\n",
       " 'Regular',\n",
       " 'Regular',\n",
       " 'Regular',\n",
       " 'Regular',\n",
       " 'Regular',\n",
       " 'Regular',\n",
       " 'Regular',\n",
       " 'Regular',\n",
       " 'Regular',\n",
       " 'Regular',\n",
       " 'Regular',\n",
       " 'Regular',\n",
       " 'Night owl',\n",
       " 'Regular',\n",
       " 'Night owl',\n",
       " 'Night owl',\n",
       " 'Regular',\n",
       " 'Night owl',\n",
       " 'Night owl',\n",
       " 'Regular',\n",
       " 'Night owl',\n",
       " 'Early bird',\n",
       " 'Regular',\n",
       " 'Regular',\n",
       " 'Regular',\n",
       " 'Night owl',\n",
       " 'Night owl',\n",
       " 'Night owl',\n",
       " 'Night owl',\n",
       " 'Night owl',\n",
       " 'Early bird',\n",
       " 'Night owl',\n",
       " 'Night owl',\n",
       " 'Regular',\n",
       " 'Regular',\n",
       " 'Regular',\n",
       " 'Regular',\n",
       " 'Regular',\n",
       " 'Regular',\n",
       " 'Regular',\n",
       " 'Regular',\n",
       " 'Regular',\n",
       " 'Regular',\n",
       " 'Regular',\n",
       " 'Night owl',\n",
       " 'Regular',\n",
       " 'Regular',\n",
       " 'Regular',\n",
       " 'Regular',\n",
       " 'Regular',\n",
       " 'Regular',\n",
       " 'Regular',\n",
       " 'Regular',\n",
       " 'Regular',\n",
       " 'Regular',\n",
       " 'Regular',\n",
       " 'Regular',\n",
       " 'Regular',\n",
       " 'Regular',\n",
       " 'Regular',\n",
       " 'Regular',\n",
       " 'Regular',\n",
       " 'Regular',\n",
       " 'Early bird',\n",
       " 'Regular',\n",
       " 'Regular',\n",
       " 'Regular',\n",
       " 'Regular',\n",
       " 'Regular',\n",
       " 'Regular',\n",
       " 'Regular',\n",
       " 'Regular',\n",
       " 'Regular',\n",
       " 'Night owl',\n",
       " 'Early bird',\n",
       " 'Regular',\n",
       " 'Regular',\n",
       " 'Night owl',\n",
       " 'Regular',\n",
       " 'Regular',\n",
       " 'Regular',\n",
       " 'Regular',\n",
       " 'Regular',\n",
       " 'Regular',\n",
       " 'Regular',\n",
       " 'Regular',\n",
       " 'Regular',\n",
       " 'Regular',\n",
       " 'Regular',\n",
       " 'Regular',\n",
       " 'Regular',\n",
       " 'Regular',\n",
       " 'Regular',\n",
       " 'Regular',\n",
       " 'Regular',\n",
       " 'Regular',\n",
       " 'Regular',\n",
       " 'Regular',\n",
       " 'Regular',\n",
       " 'Regular',\n",
       " 'Regular',\n",
       " 'Regular',\n",
       " 'Regular',\n",
       " 'Regular',\n",
       " 'Regular',\n",
       " 'Night owl',\n",
       " 'Regular',\n",
       " 'Regular',\n",
       " 'Regular',\n",
       " 'Early bird',\n",
       " 'Regular',\n",
       " 'Regular',\n",
       " 'Regular',\n",
       " 'Regular',\n",
       " 'Night owl',\n",
       " 'Early bird',\n",
       " 'Regular',\n",
       " 'Regular',\n",
       " 'Regular',\n",
       " 'Regular',\n",
       " 'Regular',\n",
       " 'Regular',\n",
       " 'Regular',\n",
       " 'Regular',\n",
       " 'Regular',\n",
       " 'Regular',\n",
       " 'Regular',\n",
       " 'Regular',\n",
       " 'Regular',\n",
       " 'Regular',\n",
       " 'Regular',\n",
       " 'Regular',\n",
       " 'Regular',\n",
       " 'Regular',\n",
       " 'Early bird',\n",
       " 'Regular',\n",
       " 'Regular',\n",
       " 'Regular',\n",
       " 'Regular',\n",
       " 'Regular',\n",
       " 'Regular',\n",
       " 'Regular',\n",
       " 'Early bird',\n",
       " 'Regular',\n",
       " 'Night owl',\n",
       " 'Early bird',\n",
       " 'Regular',\n",
       " 'Night owl',\n",
       " 'Regular',\n",
       " 'Regular',\n",
       " 'Regular',\n",
       " 'Early bird',\n",
       " 'Regular',\n",
       " 'Regular',\n",
       " 'Regular',\n",
       " 'Regular',\n",
       " 'Regular',\n",
       " 'Regular',\n",
       " 'Regular',\n",
       " 'Regular',\n",
       " ...]"
      ]
     },
     "execution_count": 65,
     "metadata": {},
     "output_type": "execute_result"
    }
   ],
   "source": [
    "result"
   ]
  },
  {
   "cell_type": "code",
   "execution_count": 66,
   "id": "11fb982f",
   "metadata": {},
   "outputs": [],
   "source": [
    "df['order_time_period'] = result"
   ]
  },
  {
   "cell_type": "code",
   "execution_count": 67,
   "id": "a2d4d7c7",
   "metadata": {},
   "outputs": [
    {
     "data": {
      "text/plain": [
       "Regular       14124239\n",
       "Night owl      5528420\n",
       "Early bird     2023152\n",
       "Name: order_time_period, dtype: int64"
      ]
     },
     "execution_count": 67,
     "metadata": {},
     "output_type": "execute_result"
    }
   ],
   "source": [
    "#print the frequency of the new column\n",
    "df['order_time_period'].value_counts(dropna = False)"
   ]
  },
  {
   "cell_type": "code",
   "execution_count": 68,
   "id": "892132c3",
   "metadata": {
    "scrolled": true
   },
   "outputs": [
    {
     "name": "stdout",
     "output_type": "stream",
     "text": [
      "<class 'pandas.core.frame.DataFrame'>\n",
      "Int64Index: 21675811 entries, 1 to 32404854\n",
      "Data columns (total 41 columns):\n",
      " #   Column                  Dtype         \n",
      "---  ------                  -----         \n",
      " 0   order_id                int32         \n",
      " 1   user_id                 int32         \n",
      " 2   order_number            int8          \n",
      " 3   orders_day_of_week      int8          \n",
      " 4   order_hour_of_day       int8          \n",
      " 5   days_since_prior_order  float16       \n",
      " 6   product_id              int32         \n",
      " 7   add_to_cart_order       int16         \n",
      " 8   reordered               int8          \n",
      " 9   _merge                  category      \n",
      " 10  product_name            category      \n",
      " 11  aisle_id                int16         \n",
      " 12  department_id           int8          \n",
      " 13  prices                  float32       \n",
      " 14  price_range_loc         category      \n",
      " 15  busiest_days            category      \n",
      " 16  busiest_period_of_day   category      \n",
      " 17  max_order               int8          \n",
      " 18  loyalty_flag            category      \n",
      " 19  avg_price               float16       \n",
      " 20  spending_flag           category      \n",
      " 21  order_freq              float16       \n",
      " 22  order_freq_flag         category      \n",
      " 23  gender                  category      \n",
      " 24  state                   category      \n",
      " 25  age                     int8          \n",
      " 26  date_joined             datetime64[ns]\n",
      " 27  n_dependants            int8          \n",
      " 28  dependants_loc          category      \n",
      " 29  fam_status              category      \n",
      " 30  income                  int32         \n",
      " 31  region                  object        \n",
      " 32  exclusion_flag          object        \n",
      " 33  age_category            object        \n",
      " 34  income_flag             object        \n",
      " 35  profile_age             object        \n",
      " 36  profile_fam             object        \n",
      " 37  department              object        \n",
      " 38  alcohol_drinker         object        \n",
      " 39  pet_owner               object        \n",
      " 40  order_time_period       object        \n",
      "dtypes: category(12), datetime64[ns](1), float16(3), float32(1), int16(2), int32(4), int8(8), object(10)\n",
      "memory usage: 3.0+ GB\n"
     ]
    }
   ],
   "source": [
    "df.info()"
   ]
  },
  {
   "cell_type": "code",
   "execution_count": 69,
   "id": "e0ec2104",
   "metadata": {},
   "outputs": [
    {
     "data": {
      "text/plain": [
       "Regular       0.651613\n",
       "Night owl     0.255050\n",
       "Early bird    0.093337\n",
       "Name: order_time_period, dtype: float64"
      ]
     },
     "execution_count": 69,
     "metadata": {},
     "output_type": "execute_result"
    }
   ],
   "source": [
    "df['order_time_period'].value_counts(dropna = False, normalize = True)"
   ]
  },
  {
   "cell_type": "code",
   "execution_count": 70,
   "id": "d6a7ba5b",
   "metadata": {},
   "outputs": [
    {
     "data": {
      "text/plain": [
       "(array([0, 1, 2]),\n",
       " [Text(0, 0, 'Regular'), Text(1, 0, 'Night owl'), Text(2, 0, 'Early bird')])"
      ]
     },
     "execution_count": 70,
     "metadata": {},
     "output_type": "execute_result"
    },
    {
     "data": {
      "image/png": "[encoded data removed]",
      "text/plain": [
       "<Figure size 640x480 with 1 Axes>"
      ]
     },
     "metadata": {},
     "output_type": "display_data"
    }
   ],
   "source": [
    "#creating a bar chart for order habit column\n",
    "bar_loyalty = df['order_time_period'].value_counts().plot.bar(color = ['darkgreen', 'limegreen', 'springgreen'])\n",
    "plt.title('Most popular purchasing times during the day', fontsize = 18, pad=20)\n",
    "plt.ylabel('No. of purchases (in millions)', fontsize = 12)\n",
    "plt.xticks(rotation=25)"
   ]
  },
  {
   "cell_type": "markdown",
   "id": "913ba5e6",
   "metadata": {},
   "source": [
    "#### 3.4 Age and order day of week"
   ]
  },
  {
   "cell_type": "code",
   "execution_count": 71,
   "id": "c20b266d",
   "metadata": {},
   "outputs": [],
   "source": [
    "#customer comparison by age & day of week\n",
    "crosstab_age_day = pd.crosstab(df['age_category'], df['orders_day_of_week'], dropna = False)"
   ]
  },
  {
   "cell_type": "code",
   "execution_count": 72,
   "id": "d918ded9",
   "metadata": {},
   "outputs": [
    {
     "data": {
      "text/html": [
       "<div>\n",
       "<style scoped>\n",
       "    .dataframe tbody tr th:only-of-type {\n",
       "        vertical-align: middle;\n",
       "    }\n",
       "\n",
       "    .dataframe tbody tr th {\n",
       "        vertical-align: top;\n",
       "    }\n",
       "\n",
       "    .dataframe thead th {\n",
       "        text-align: right;\n",
       "    }\n",
       "</style>\n",
       "<table border=\"1\" class=\"dataframe\">\n",
       "  <thead>\n",
       "    <tr style=\"text-align: right;\">\n",
       "      <th>orders_day_of_week</th>\n",
       "      <th>0</th>\n",
       "      <th>1</th>\n",
       "      <th>2</th>\n",
       "      <th>3</th>\n",
       "      <th>4</th>\n",
       "      <th>5</th>\n",
       "      <th>6</th>\n",
       "    </tr>\n",
       "    <tr>\n",
       "      <th>age_category</th>\n",
       "      <th></th>\n",
       "      <th></th>\n",
       "      <th></th>\n",
       "      <th></th>\n",
       "      <th></th>\n",
       "      <th></th>\n",
       "      <th></th>\n",
       "    </tr>\n",
       "  </thead>\n",
       "  <tbody>\n",
       "    <tr>\n",
       "      <th>Middle age</th>\n",
       "      <td>1610411</td>\n",
       "      <td>1479751</td>\n",
       "      <td>1107962</td>\n",
       "      <td>1001762</td>\n",
       "      <td>991407</td>\n",
       "      <td>1103719</td>\n",
       "      <td>1178204</td>\n",
       "    </tr>\n",
       "    <tr>\n",
       "      <th>Senior</th>\n",
       "      <td>1096232</td>\n",
       "      <td>992095</td>\n",
       "      <td>746509</td>\n",
       "      <td>684482</td>\n",
       "      <td>669182</td>\n",
       "      <td>746599</td>\n",
       "      <td>802637</td>\n",
       "    </tr>\n",
       "    <tr>\n",
       "      <th>Youth</th>\n",
       "      <td>1428527</td>\n",
       "      <td>1317616</td>\n",
       "      <td>962977</td>\n",
       "      <td>882271</td>\n",
       "      <td>876982</td>\n",
       "      <td>973377</td>\n",
       "      <td>1023109</td>\n",
       "    </tr>\n",
       "  </tbody>\n",
       "</table>\n",
       "</div>"
      ],
      "text/plain": [
       "orders_day_of_week        0        1        2        3       4        5  \\\n",
       "age_category                                                              \n",
       "Middle age          1610411  1479751  1107962  1001762  991407  1103719   \n",
       "Senior              1096232   992095   746509   684482  669182   746599   \n",
       "Youth               1428527  1317616   962977   882271  876982   973377   \n",
       "\n",
       "orders_day_of_week        6  \n",
       "age_category                 \n",
       "Middle age          1178204  \n",
       "Senior               802637  \n",
       "Youth               1023109  "
      ]
     },
     "execution_count": 72,
     "metadata": {},
     "output_type": "execute_result"
    }
   ],
   "source": [
    "crosstab_age_day"
   ]
  },
  {
   "cell_type": "code",
   "execution_count": 73,
   "id": "5bd92869",
   "metadata": {},
   "outputs": [],
   "source": [
    "#customer comparison by age & day of week\n",
    "crosstab_age_day2 = pd.crosstab(df['age_category'], df['orders_day_of_week'], dropna = False, normalize = 'index')"
   ]
  },
  {
   "cell_type": "code",
   "execution_count": 74,
   "id": "2766be94",
   "metadata": {},
   "outputs": [
    {
     "data": {
      "text/html": [
       "<div>\n",
       "<style scoped>\n",
       "    .dataframe tbody tr th:only-of-type {\n",
       "        vertical-align: middle;\n",
       "    }\n",
       "\n",
       "    .dataframe tbody tr th {\n",
       "        vertical-align: top;\n",
       "    }\n",
       "\n",
       "    .dataframe thead th {\n",
       "        text-align: right;\n",
       "    }\n",
       "</style>\n",
       "<table border=\"1\" class=\"dataframe\">\n",
       "  <thead>\n",
       "    <tr style=\"text-align: right;\">\n",
       "      <th>orders_day_of_week</th>\n",
       "      <th>0</th>\n",
       "      <th>1</th>\n",
       "      <th>2</th>\n",
       "      <th>3</th>\n",
       "      <th>4</th>\n",
       "      <th>5</th>\n",
       "      <th>6</th>\n",
       "    </tr>\n",
       "    <tr>\n",
       "      <th>age_category</th>\n",
       "      <th></th>\n",
       "      <th></th>\n",
       "      <th></th>\n",
       "      <th></th>\n",
       "      <th></th>\n",
       "      <th></th>\n",
       "      <th></th>\n",
       "    </tr>\n",
       "  </thead>\n",
       "  <tbody>\n",
       "    <tr>\n",
       "      <th>Middle age</th>\n",
       "      <td>0.190059</td>\n",
       "      <td>0.174639</td>\n",
       "      <td>0.130761</td>\n",
       "      <td>0.118227</td>\n",
       "      <td>0.117005</td>\n",
       "      <td>0.130260</td>\n",
       "      <td>0.139050</td>\n",
       "    </tr>\n",
       "    <tr>\n",
       "      <th>Senior</th>\n",
       "      <td>0.191057</td>\n",
       "      <td>0.172907</td>\n",
       "      <td>0.130105</td>\n",
       "      <td>0.119295</td>\n",
       "      <td>0.116628</td>\n",
       "      <td>0.130121</td>\n",
       "      <td>0.139887</td>\n",
       "    </tr>\n",
       "    <tr>\n",
       "      <th>Youth</th>\n",
       "      <td>0.191367</td>\n",
       "      <td>0.176509</td>\n",
       "      <td>0.129001</td>\n",
       "      <td>0.118190</td>\n",
       "      <td>0.117481</td>\n",
       "      <td>0.130395</td>\n",
       "      <td>0.137057</td>\n",
       "    </tr>\n",
       "  </tbody>\n",
       "</table>\n",
       "</div>"
      ],
      "text/plain": [
       "orders_day_of_week         0         1         2         3         4  \\\n",
       "age_category                                                           \n",
       "Middle age          0.190059  0.174639  0.130761  0.118227  0.117005   \n",
       "Senior              0.191057  0.172907  0.130105  0.119295  0.116628   \n",
       "Youth               0.191367  0.176509  0.129001  0.118190  0.117481   \n",
       "\n",
       "orders_day_of_week         5         6  \n",
       "age_category                            \n",
       "Middle age          0.130260  0.139050  \n",
       "Senior              0.130121  0.139887  \n",
       "Youth               0.130395  0.137057  "
      ]
     },
     "execution_count": 74,
     "metadata": {},
     "output_type": "execute_result"
    }
   ],
   "source": [
    "crosstab_age_day2"
   ]
  },
  {
   "cell_type": "code",
   "execution_count": 75,
   "id": "0ae52e75",
   "metadata": {},
   "outputs": [
    {
     "data": {
      "text/plain": [
       "Text(0.5, 0, 'Age Group')"
      ]
     },
     "execution_count": 75,
     "metadata": {},
     "output_type": "execute_result"
    },
    {
     "data": {
      "image/png": "[encoded data removed]",
      "text/plain": [
       "<Figure size 640x480 with 1 Axes>"
      ]
     },
     "metadata": {},
     "output_type": "display_data"
    }
   ],
   "source": [
    "# Visualization of crosstab_age_day\n",
    "\n",
    "bar_age_day = crosstab_age_day.plot(kind = 'bar', rot = 0, color= ['lightseagreen', 'gold', 'lightgreen', 'turquoise', 'pink', 'lightblue', 'orange'])\n",
    "bar_age_day.legend(title='Days', bbox_to_anchor=(1, 1.02), loc='upper left', labels=['Saturday', 'Sunday', 'Monday', 'Tuesday', 'Wednesday', 'Thursday', 'Friday'])\n",
    "plt.title('Purchases in days of week by Age', fontsize = 18, pad=20)\n",
    "plt.ylabel('Frequency (in millions)', fontsize = 12)\n",
    "plt.xlabel('Age Group',  fontsize = 12)"
   ]
  },
  {
   "cell_type": "markdown",
   "id": "4369f293",
   "metadata": {},
   "source": [
    "#### 3.5. Region and hour of day "
   ]
  },
  {
   "cell_type": "code",
   "execution_count": 76,
   "id": "1eed6b67",
   "metadata": {},
   "outputs": [],
   "source": [
    "#customer comparison by region & order hour of day \n",
    "\n",
    "crosstab_age_hour = pd.crosstab(df['age_category'], df['order_time_period'], dropna = False)"
   ]
  },
  {
   "cell_type": "code",
   "execution_count": 77,
   "id": "e8e358cf",
   "metadata": {},
   "outputs": [
    {
     "data": {
      "text/plain": [
       "Text(0.5, 0, 'Age Group')"
      ]
     },
     "execution_count": 77,
     "metadata": {},
     "output_type": "execute_result"
    },
    {
     "data": {
      "image/png": "[encoded data removed]",
      "text/plain": [
       "<Figure size 640x480 with 1 Axes>"
      ]
     },
     "metadata": {},
     "output_type": "display_data"
    }
   ],
   "source": [
    "# Visualization of crosstab_age_day\n",
    "\n",
    "bar_age_day = crosstab_age_hour.plot(kind = 'bar', rot = 0, color= ['lightblue', 'lightgreen', 'lightseagreen'])\n",
    "bar_age_day.legend(title='Days', bbox_to_anchor=(1, 1.02), loc='upper left', labels=['Standard hours', 'Early bird', 'Night owl'])\n",
    "plt.title('Frequency of hour purchased during day', fontsize = 18, pad=20)\n",
    "plt.ylabel('Frequency (in millions)', fontsize = 12)\n",
    "plt.xlabel('Age Group',  fontsize = 18)"
   ]
  },
  {
   "cell_type": "markdown",
   "id": "5ca3bcec",
   "metadata": {},
   "source": [
    "#### Removing two columns which are no longer needed now that 'order_time_period' has been created"
   ]
  },
  {
   "cell_type": "markdown",
   "id": "c887de60",
   "metadata": {},
   "source": [
    "## 4. Exporting Dataframe and Visualisations"
   ]
  },
  {
   "cell_type": "markdown",
   "id": "01a5d1e9",
   "metadata": {},
   "source": [
    "#### Dataframe"
   ]
  },
  {
   "cell_type": "code",
   "execution_count": 79,
   "id": "d859df5d",
   "metadata": {},
   "outputs": [],
   "source": [
    "df.to_pickle(os.path.join(path, '02 Data', 'Prepared Data', 'final_project.pkl'))"
   ]
  },
  {
   "cell_type": "markdown",
   "id": "f81145df",
   "metadata": {},
   "source": [
    "#### Visualisations"
   ]
  },
  {
   "cell_type": "code",
   "execution_count": 80,
   "id": "6027744a",
   "metadata": {},
   "outputs": [],
   "source": [
    "hist_income.figure.savefig(os.path.join(path, '04 Analysis','Visualisations', 'hist_income.02.png'))"
   ]
  },
  {
   "cell_type": "code",
   "execution_count": 81,
   "id": "21285171",
   "metadata": {},
   "outputs": [],
   "source": [
    "bar_fam_status.figure.savefig(os.path.join(path, '04 Analysis','Visualisations', 'bar_fam_status.02.png'))"
   ]
  },
  {
   "cell_type": "code",
   "execution_count": 82,
   "id": "24199311",
   "metadata": {},
   "outputs": [],
   "source": [
    "bar_dependants.figure.savefig(os.path.join(path, '04 Analysis','Visualisations', 'bar_dependants.02.png'))"
   ]
  },
  {
   "cell_type": "code",
   "execution_count": 83,
   "id": "7b279515",
   "metadata": {},
   "outputs": [],
   "source": [
    "alcohol_drinker_pie.figure.savefig(os.path.join(path, '04 Analysis','Visualisations', 'alc_pie.02.png'))"
   ]
  },
  {
   "cell_type": "code",
   "execution_count": 84,
   "id": "24c54a84",
   "metadata": {},
   "outputs": [],
   "source": [
    "bar_age_day.figure.savefig(os.path.join(path, '04 Analysis','Visualisations', 'bar_age_day.02.png'))"
   ]
  },
  {
   "cell_type": "code",
   "execution_count": 86,
   "id": "00a84970",
   "metadata": {},
   "outputs": [],
   "source": [
    "bar_loyalty.figure.savefig(os.path.join(path, '04 Analysis','Visualisations', 'bar_loyalty.02.png'))"
   ]
  },
  {
   "cell_type": "code",
   "execution_count": 87,
   "id": "ed4eb534",
   "metadata": {},
   "outputs": [],
   "source": [
    "pie_pet_owner.figure.savefig(os.path.join(path, '04 Analysis','Visualisations', 'pie_pet.02.png'))"
   ]
  },
  {
   "cell_type": "code",
   "execution_count": null,
   "id": "616c1dd5",
   "metadata": {},
   "outputs": [],
   "source": []
  }
 ],
 "metadata": {
  "kernelspec": {
   "display_name": "Python 3 (ipykernel)",
   "language": "python",
   "name": "python3"
  },
  "language_info": {
   "codemirror_mode": {
    "name": "ipython",
    "version": 3
   },
   "file_extension": ".py",
   "mimetype": "text/x-python",
   "name": "python",
   "nbconvert_exporter": "python",
   "pygments_lexer": "ipython3",
   "version": "3.9.13"
  }
 },
 "nbformat": 4,
 "nbformat_minor": 5
}
